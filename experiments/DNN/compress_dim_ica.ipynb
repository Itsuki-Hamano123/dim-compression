{
  "nbformat": 4,
  "nbformat_minor": 0,
  "metadata": {
    "colab": {
      "name": "compress_dim_ica.ipynb",
      "provenance": [],
      "collapsed_sections": [],
      "authorship_tag": "ABX9TyNlvig1A3hzHZ+8Wo+CVqwd",
      "include_colab_link": true
    },
    "kernelspec": {
      "name": "python3",
      "display_name": "Python 3"
    },
    "accelerator": "GPU"
  },
  "cells": [
    {
      "cell_type": "markdown",
      "metadata": {
        "id": "view-in-github",
        "colab_type": "text"
      },
      "source": [
        "<a href=\"https://colab.research.google.com/github/Itsuki-Hamano123/dim-compression/blob/master/experiments/compress_dim_ica.ipynb\" target=\"_parent\"><img src=\"https://colab.research.google.com/assets/colab-badge.svg\" alt=\"Open In Colab\"/></a>"
      ]
    },
    {
      "cell_type": "markdown",
      "metadata": {
        "id": "EGia4kD5Ye7p",
        "colab_type": "text"
      },
      "source": [
        "# ICA(独立成分分析)で次元圧縮"
      ]
    },
    {
      "cell_type": "code",
      "metadata": {
        "id": "Sn8NG08PQeE3",
        "colab_type": "code",
        "colab": {}
      },
      "source": [
        "import os\n",
        "import datetime\n",
        "\n",
        "import cloudpickle\n",
        "import pandas as pd\n",
        "\n",
        "from sklearn.datasets import fetch_covtype\n",
        "from sklearn.model_selection import train_test_split\n",
        "from sklearn.preprocessing import StandardScaler \n",
        "from sklearn.decomposition import FastICA\n",
        "from sklearn.metrics import classification_report, confusion_matrix\n",
        "import tensorflow as tf\n",
        "from tensorflow.keras.utils import to_categorical\n",
        "from tensorflow.keras.callbacks import EarlyStopping, TensorBoard"
      ],
      "execution_count": 1,
      "outputs": []
    },
    {
      "cell_type": "code",
      "metadata": {
        "id": "skuEjdhJZEY-",
        "colab_type": "code",
        "colab": {
          "base_uri": "https://localhost:8080/",
          "height": 215
        },
        "outputId": "a3eff6d0-e683-4aee-9711-62cd88637e5c"
      },
      "source": [
        "print('{lib}:{ver}'.format(lib='tf',ver=tf.__version__))\n",
        "!pip show scikit-learn"
      ],
      "execution_count": 2,
      "outputs": [
        {
          "output_type": "stream",
          "text": [
            "tf:2.2.0\n",
            "Name: scikit-learn\n",
            "Version: 0.22.2.post1\n",
            "Summary: A set of python modules for machine learning and data mining\n",
            "Home-page: http://scikit-learn.org\n",
            "Author: None\n",
            "Author-email: None\n",
            "License: new BSD\n",
            "Location: /usr/local/lib/python3.6/dist-packages\n",
            "Requires: scipy, joblib, numpy\n",
            "Required-by: yellowbrick, umap-learn, textgenrnn, sklearn, sklearn-pandas, mlxtend, lucid, lightgbm, librosa, imbalanced-learn, fancyimpute\n"
          ],
          "name": "stdout"
        }
      ]
    },
    {
      "cell_type": "markdown",
      "metadata": {
        "id": "O_0NUB0baOJN",
        "colab_type": "text"
      },
      "source": [
        "# covtypeデータ読み込み\n",
        "特徴量54次元で7クラス分類を行うデータ<br>\n",
        "[scikit-learnのリファレンス](https://scikit-learn.org/stable/modules/generated/sklearn.datasets.fetch_covtype.html#sklearn.datasets.fetch_covtype)<br>\n",
        "[データセットの詳細ページ](https://archive.ics.uci.edu/ml/datasets/Covertype)\n"
      ]
    },
    {
      "cell_type": "code",
      "metadata": {
        "id": "BPgBv1ECZ-E3",
        "colab_type": "code",
        "colab": {
          "base_uri": "https://localhost:8080/",
          "height": 361
        },
        "outputId": "b895459b-245b-4ab1-e84d-026641ab4b57"
      },
      "source": [
        "SEED = 2\n",
        "\n",
        "data_bunch = fetch_covtype(random_state=SEED,\n",
        "                           shuffle=True,\n",
        "                           return_X_y=False)\n",
        "\n",
        "print('data shape:{shape}'.format(shape=data_bunch.data.shape))\n",
        "print('target shape:{shape}'.format(shape=data_bunch.target.shape))\n",
        "data_bunch"
      ],
      "execution_count": 3,
      "outputs": [
        {
          "output_type": "stream",
          "text": [
            "Downloading https://ndownloader.figshare.com/files/5976039\n"
          ],
          "name": "stderr"
        },
        {
          "output_type": "stream",
          "text": [
            "data shape:(581012, 54)\n",
            "target shape:(581012,)\n"
          ],
          "name": "stdout"
        },
        {
          "output_type": "execute_result",
          "data": {
            "text/plain": [
              "{'DESCR': \".. _covtype_dataset:\\n\\nForest covertypes\\n-----------------\\n\\nThe samples in this dataset correspond to 30×30m patches of forest in the US,\\ncollected for the task of predicting each patch's cover type,\\ni.e. the dominant species of tree.\\nThere are seven covertypes, making this a multiclass classification problem.\\nEach sample has 54 features, described on the\\n`dataset's homepage <https://archive.ics.uci.edu/ml/datasets/Covertype>`__.\\nSome of the features are boolean indicators,\\nwhile others are discrete or continuous measurements.\\n\\n**Data Set Characteristics:**\\n\\n    =================   ============\\n    Classes                        7\\n    Samples total             581012\\n    Dimensionality                54\\n    Features                     int\\n    =================   ============\\n\\n:func:`sklearn.datasets.fetch_covtype` will load the covertype dataset;\\nit returns a dictionary-like object\\nwith the feature matrix in the ``data`` member\\nand the target values in ``target``.\\nThe dataset will be downloaded from the web if necessary.\\n\",\n",
              " 'data': array([[3.221e+03, 3.900e+01, 1.600e+01, ..., 0.000e+00, 0.000e+00,\n",
              "         0.000e+00],\n",
              "        [3.348e+03, 9.700e+01, 1.200e+01, ..., 1.000e+00, 0.000e+00,\n",
              "         0.000e+00],\n",
              "        [3.114e+03, 1.770e+02, 2.000e+01, ..., 0.000e+00, 0.000e+00,\n",
              "         0.000e+00],\n",
              "        ...,\n",
              "        [2.960e+03, 1.200e+02, 2.600e+01, ..., 0.000e+00, 0.000e+00,\n",
              "         0.000e+00],\n",
              "        [3.247e+03, 4.600e+01, 1.900e+01, ..., 1.000e+00, 0.000e+00,\n",
              "         0.000e+00],\n",
              "        [2.975e+03, 9.900e+01, 8.000e+00, ..., 0.000e+00, 0.000e+00,\n",
              "         0.000e+00]]),\n",
              " 'target': array([1, 1, 2, ..., 2, 2, 2], dtype=int32)}"
            ]
          },
          "metadata": {
            "tags": []
          },
          "execution_count": 3
        }
      ]
    },
    {
      "cell_type": "code",
      "metadata": {
        "id": "YkvZ3OfDa3aD",
        "colab_type": "code",
        "colab": {
          "base_uri": "https://localhost:8080/",
          "height": 71
        },
        "outputId": "8ffbd26f-0a22-425e-a4b4-b3bf8a0cbc7b"
      },
      "source": [
        "# 訓練データ,テストデータに分割\n",
        "train_X, test_X, train_y, test_y = train_test_split(data_bunch.data, data_bunch.target,\n",
        "                                                    test_size=0.2, random_state=SEED)\n",
        "# 訓練データ,検証データに分割\n",
        "train_X, validation_X, train_y, validation_y = train_test_split(train_X, train_y,\n",
        "                                                                test_size=0.2, random_state=SEED)\n",
        "\n",
        "print('train size:{size}'.format(size=train_y.shape[0]))\n",
        "print('validation size:{size}'.format(size=validation_y.shape[0]))\n",
        "print('test size:{size}'.format(size=test_y.shape[0]))"
      ],
      "execution_count": 4,
      "outputs": [
        {
          "output_type": "stream",
          "text": [
            "train size:371847\n",
            "validation size:92962\n",
            "test size:116203\n"
          ],
          "name": "stdout"
        }
      ]
    },
    {
      "cell_type": "code",
      "metadata": {
        "id": "KEyJnTgK50lX",
        "colab_type": "code",
        "colab": {}
      },
      "source": [
        "NUM_CLASS = 7\n",
        "\n",
        "# 予測ラベルをone-hotエンコード\n",
        "categorical_train_y = to_categorical(train_y-1, num_classes=NUM_CLASS)\n",
        "categorical_validation_y = to_categorical(validation_y-1, num_classes=NUM_CLASS)\n",
        "categorical_test_y = to_categorical(test_y-1, num_classes=NUM_CLASS)"
      ],
      "execution_count": 5,
      "outputs": []
    },
    {
      "cell_type": "markdown",
      "metadata": {
        "id": "5iNfcuX-ffaf",
        "colab_type": "text"
      },
      "source": [
        "# データの前処理"
      ]
    },
    {
      "cell_type": "markdown",
      "metadata": {
        "id": "pnMV2Jpvfi9c",
        "colab_type": "text"
      },
      "source": [
        "## 標準化"
      ]
    },
    {
      "cell_type": "code",
      "metadata": {
        "id": "NWWymQMXcWnW",
        "colab_type": "code",
        "colab": {
          "base_uri": "https://localhost:8080/",
          "height": 35
        },
        "outputId": "559bb09c-1345-4ca4-d18f-dfae371288ab"
      },
      "source": [
        "STD_SCALER = StandardScaler()\n",
        "# 標準化器を作成\n",
        "STD_SCALER.fit(train_X)\n",
        "print('sclaer fit end')"
      ],
      "execution_count": 6,
      "outputs": [
        {
          "output_type": "stream",
          "text": [
            "sclaer fit end\n"
          ],
          "name": "stdout"
        }
      ]
    },
    {
      "cell_type": "code",
      "metadata": {
        "id": "GN5s79t1gUGZ",
        "colab_type": "code",
        "colab": {
          "base_uri": "https://localhost:8080/",
          "height": 53
        },
        "outputId": "6ff2bc0e-3ddf-4785-f5d3-ad3e0cd148ed"
      },
      "source": [
        "# 訓練データを標準化\n",
        "std_train_X = STD_SCALER.transform(train_X, copy=True)\n",
        "std_train_X[:,0]"
      ],
      "execution_count": 7,
      "outputs": [
        {
          "output_type": "execute_result",
          "data": {
            "text/plain": [
              "array([ 0.31952626, -1.6259504 ,  1.09557117, ..., -0.64605958,\n",
              "       -0.18830037,  1.2529259 ])"
            ]
          },
          "metadata": {
            "tags": []
          },
          "execution_count": 7
        }
      ]
    },
    {
      "cell_type": "code",
      "metadata": {
        "id": "sLEhF0wOgoP0",
        "colab_type": "code",
        "colab": {}
      },
      "source": [
        "# 検証/テストデータも標準化\n",
        "std_validation_X = STD_SCALER.transform(validation_X, copy=True)\n",
        "std_test_X = STD_SCALER.transform(test_X, copy=True)"
      ],
      "execution_count": 8,
      "outputs": []
    },
    {
      "cell_type": "markdown",
      "metadata": {
        "id": "h-iI7keYiYWp",
        "colab_type": "text"
      },
      "source": [
        "### ICAで次元圧縮"
      ]
    },
    {
      "cell_type": "code",
      "metadata": {
        "id": "3WLGK95hgpOZ",
        "colab_type": "code",
        "colab": {
          "base_uri": "https://localhost:8080/",
          "height": 35
        },
        "outputId": "45e4666e-fc5e-4203-f69a-524048ad2378"
      },
      "source": [
        "# 圧縮後の次元サイズ\n",
        "COMPONENTS = 40\n",
        "\n",
        "ica = FastICA(n_components=COMPONENTS, random_state=SEED)\n",
        "ica.fit(std_train_X)\n",
        "print('ica fit end')"
      ],
      "execution_count": 9,
      "outputs": [
        {
          "output_type": "stream",
          "text": [
            "ica fit end\n"
          ],
          "name": "stdout"
        }
      ]
    },
    {
      "cell_type": "code",
      "metadata": {
        "id": "MBGrGtm5gyyJ",
        "colab_type": "code",
        "colab": {
          "base_uri": "https://localhost:8080/",
          "height": 53
        },
        "outputId": "805797b7-c2bf-4146-d511-6b6ca004f6a5"
      },
      "source": [
        "# 訓練/検証/テストデータをICAで次元圧縮\n",
        "ica_train_X = ica.transform(std_train_X)\n",
        "ica_validation_X = ica.transform(std_validation_X)\n",
        "ica_test_X = ica.transform(std_test_X)\n",
        "\n",
        "print('圧縮前の次元サイズ:{size}'.format(size=std_train_X.shape[1]))\n",
        "print('圧縮後の次元サイズ:{size}'.format(size=ica_train_X.shape[1]))"
      ],
      "execution_count": 10,
      "outputs": [
        {
          "output_type": "stream",
          "text": [
            "圧縮前の次元サイズ:54\n",
            "圧縮後の次元サイズ:40\n"
          ],
          "name": "stdout"
        }
      ]
    },
    {
      "cell_type": "markdown",
      "metadata": {
        "id": "88zTw2fXnKlX",
        "colab_type": "text"
      },
      "source": [
        "# DNN(classifier)でクラス分類モデル構築"
      ]
    },
    {
      "cell_type": "code",
      "metadata": {
        "id": "IWRbQhlCrqjJ",
        "colab_type": "code",
        "colab": {
          "base_uri": "https://localhost:8080/",
          "height": 145
        },
        "outputId": "dfdaaedc-397c-4f7e-e1e8-9174c0bf58f2"
      },
      "source": [
        "from google.colab import drive\n",
        "drive.mount('/gdrive')\n",
        "%cd /gdrive"
      ],
      "execution_count": 11,
      "outputs": [
        {
          "output_type": "stream",
          "text": [
            "Go to this URL in a browser: https://accounts.google.com/o/oauth2/auth?client_id=947318989803-6bn6qk8qdgf4n4g3pfee6491hc0brc4i.apps.googleusercontent.com&redirect_uri=urn%3aietf%3awg%3aoauth%3a2.0%3aoob&response_type=code&scope=email%20https%3a%2f%2fwww.googleapis.com%2fauth%2fdocs.test%20https%3a%2f%2fwww.googleapis.com%2fauth%2fdrive%20https%3a%2f%2fwww.googleapis.com%2fauth%2fdrive.photos.readonly%20https%3a%2f%2fwww.googleapis.com%2fauth%2fpeopleapi.readonly\n",
            "\n",
            "Enter your authorization code:\n",
            "··········\n",
            "Mounted at /gdrive\n",
            "/gdrive\n"
          ],
          "name": "stdout"
        }
      ]
    },
    {
      "cell_type": "code",
      "metadata": {
        "id": "7QPlFu7przWN",
        "colab_type": "code",
        "colab": {
          "base_uri": "https://localhost:8080/",
          "height": 35
        },
        "outputId": "5a2c5cf7-68f8-4b6e-bf40-8e7623dab55e"
      },
      "source": [
        "cd My Drive/機械学習練習/次元圧縮手法_比較/experiment"
      ],
      "execution_count": 12,
      "outputs": [
        {
          "output_type": "stream",
          "text": [
            "/gdrive/My Drive/機械学習練習/次元圧縮手法_比較/experiment\n"
          ],
          "name": "stdout"
        }
      ]
    },
    {
      "cell_type": "code",
      "metadata": {
        "id": "7f8quVUarr07",
        "colab_type": "code",
        "colab": {
          "base_uri": "https://localhost:8080/",
          "height": 53
        },
        "outputId": "cd6c2a4d-6c5c-4287-f8f9-de15e041573b"
      },
      "source": [
        "!ls "
      ],
      "execution_count": 13,
      "outputs": [
        {
          "output_type": "stream",
          "text": [
            "compress_dim_ica.ipynb\tcompress_dim_tsne.ipynb  ml\n",
            "compress_dim_pca.ipynb\tlogs\n"
          ],
          "name": "stdout"
        }
      ]
    },
    {
      "cell_type": "code",
      "metadata": {
        "id": "TdxD0q9nr9TL",
        "colab_type": "code",
        "colab": {}
      },
      "source": [
        "from ml.model import classifier_DNN_fn\n",
        "\n",
        "LOG_DIR = 'logs'\n",
        "model_name = 'compress_dim_ica'"
      ],
      "execution_count": 14,
      "outputs": []
    },
    {
      "cell_type": "code",
      "metadata": {
        "id": "DBtleF-zsQ6A",
        "colab_type": "code",
        "colab": {
          "base_uri": "https://localhost:8080/",
          "height": 341
        },
        "outputId": "f5f7c6e8-e7fd-4aed-fc25-155d132218aa"
      },
      "source": [
        "model = classifier_DNN_fn(input_shape=ica_train_X.shape[1],\n",
        "                          output_shape=NUM_CLASS,\n",
        "                          hidden_shapes=[30, 20])\n",
        "model.summary()"
      ],
      "execution_count": 15,
      "outputs": [
        {
          "output_type": "stream",
          "text": [
            "Model: \"sequential\"\n",
            "_________________________________________________________________\n",
            "Layer (type)                 Output Shape              Param #   \n",
            "=================================================================\n",
            "dense (Dense)                (None, 30)                1230      \n",
            "_________________________________________________________________\n",
            "dropout (Dropout)            (None, 30)                0         \n",
            "_________________________________________________________________\n",
            "dense_1 (Dense)              (None, 20)                620       \n",
            "_________________________________________________________________\n",
            "dropout_1 (Dropout)          (None, 20)                0         \n",
            "_________________________________________________________________\n",
            "dense_2 (Dense)              (None, 7)                 147       \n",
            "=================================================================\n",
            "Total params: 1,997\n",
            "Trainable params: 1,997\n",
            "Non-trainable params: 0\n",
            "_________________________________________________________________\n"
          ],
          "name": "stdout"
        }
      ]
    },
    {
      "cell_type": "code",
      "metadata": {
        "id": "8OdWTGPowx8c",
        "colab_type": "code",
        "colab": {}
      },
      "source": [
        "model.compile(optimizer='adam', loss='categorical_crossentropy', metrics=['accuracy'])\n",
        "\n",
        "est = EarlyStopping(patience=2)\n",
        "\n",
        "# Load the TensorBoard notebook extension\n",
        "%load_ext tensorboard\n",
        "#%reload_ext tensorboard\n",
        "log_dir = os.path.join(LOG_DIR, 'fit', model_name, datetime.datetime.now().strftime(\"%Y%m%d-%H%M%S\"))\n",
        "tensorboard_callback = TensorBoard(log_dir=log_dir, histogram_freq=1)"
      ],
      "execution_count": 16,
      "outputs": []
    },
    {
      "cell_type": "markdown",
      "metadata": {
        "id": "T4Ws2sDB9aYa",
        "colab_type": "text"
      },
      "source": [
        "## モデルの学習"
      ]
    },
    {
      "cell_type": "code",
      "metadata": {
        "id": "a4c2IrcgzE3m",
        "colab_type": "code",
        "colab": {
          "base_uri": "https://localhost:8080/",
          "height": 1000
        },
        "outputId": "3921c734-ee88-46de-f38e-be7c5529bc78"
      },
      "source": [
        "model.fit(x=ica_train_X, y=categorical_train_y, batch_size=500, epochs=100,\n",
        "          validation_data=(ica_validation_X, categorical_validation_y),\n",
        "          callbacks=[est, tensorboard_callback])"
      ],
      "execution_count": 17,
      "outputs": [
        {
          "output_type": "stream",
          "text": [
            "Epoch 1/100\n",
            "744/744 [==============================] - 4s 5ms/step - loss: 1.2777 - accuracy: 0.4771 - val_loss: 1.1458 - val_accuracy: 0.4892\n",
            "Epoch 2/100\n",
            "744/744 [==============================] - 4s 5ms/step - loss: 1.0682 - accuracy: 0.5018 - val_loss: 0.9748 - val_accuracy: 0.5314\n",
            "Epoch 3/100\n",
            "744/744 [==============================] - 4s 5ms/step - loss: 0.9540 - accuracy: 0.5597 - val_loss: 0.8596 - val_accuracy: 0.6332\n",
            "Epoch 4/100\n",
            "744/744 [==============================] - 4s 5ms/step - loss: 0.8742 - accuracy: 0.6197 - val_loss: 0.7919 - val_accuracy: 0.6696\n",
            "Epoch 5/100\n",
            "744/744 [==============================] - 4s 5ms/step - loss: 0.8271 - accuracy: 0.6452 - val_loss: 0.7618 - val_accuracy: 0.6806\n",
            "Epoch 6/100\n",
            "744/744 [==============================] - 4s 5ms/step - loss: 0.8032 - accuracy: 0.6568 - val_loss: 0.7515 - val_accuracy: 0.6829\n",
            "Epoch 7/100\n",
            "744/744 [==============================] - 4s 5ms/step - loss: 0.7887 - accuracy: 0.6641 - val_loss: 0.7417 - val_accuracy: 0.6860\n",
            "Epoch 8/100\n",
            "744/744 [==============================] - 4s 5ms/step - loss: 0.7762 - accuracy: 0.6703 - val_loss: 0.7319 - val_accuracy: 0.6871\n",
            "Epoch 9/100\n",
            "744/744 [==============================] - 4s 5ms/step - loss: 0.7688 - accuracy: 0.6718 - val_loss: 0.7282 - val_accuracy: 0.6898\n",
            "Epoch 10/100\n",
            "744/744 [==============================] - 4s 5ms/step - loss: 0.7613 - accuracy: 0.6752 - val_loss: 0.7224 - val_accuracy: 0.6929\n",
            "Epoch 11/100\n",
            "744/744 [==============================] - 4s 6ms/step - loss: 0.7564 - accuracy: 0.6783 - val_loss: 0.7229 - val_accuracy: 0.6892\n",
            "Epoch 12/100\n",
            "744/744 [==============================] - 4s 6ms/step - loss: 0.7513 - accuracy: 0.6796 - val_loss: 0.7160 - val_accuracy: 0.6928\n",
            "Epoch 13/100\n",
            "744/744 [==============================] - 4s 6ms/step - loss: 0.7471 - accuracy: 0.6813 - val_loss: 0.7113 - val_accuracy: 0.6978\n",
            "Epoch 14/100\n",
            "744/744 [==============================] - 4s 6ms/step - loss: 0.7436 - accuracy: 0.6835 - val_loss: 0.7043 - val_accuracy: 0.7007\n",
            "Epoch 15/100\n",
            "744/744 [==============================] - 4s 5ms/step - loss: 0.7391 - accuracy: 0.6853 - val_loss: 0.7005 - val_accuracy: 0.7020\n",
            "Epoch 16/100\n",
            "744/744 [==============================] - 4s 5ms/step - loss: 0.7358 - accuracy: 0.6876 - val_loss: 0.6952 - val_accuracy: 0.7041\n",
            "Epoch 17/100\n",
            "744/744 [==============================] - 4s 5ms/step - loss: 0.7325 - accuracy: 0.6896 - val_loss: 0.6937 - val_accuracy: 0.7035\n",
            "Epoch 18/100\n",
            "744/744 [==============================] - 4s 5ms/step - loss: 0.7295 - accuracy: 0.6912 - val_loss: 0.6889 - val_accuracy: 0.7078\n",
            "Epoch 19/100\n",
            "744/744 [==============================] - 4s 5ms/step - loss: 0.7267 - accuracy: 0.6928 - val_loss: 0.6870 - val_accuracy: 0.7065\n",
            "Epoch 20/100\n",
            "744/744 [==============================] - 4s 5ms/step - loss: 0.7242 - accuracy: 0.6940 - val_loss: 0.6837 - val_accuracy: 0.7135\n",
            "Epoch 21/100\n",
            "744/744 [==============================] - 4s 5ms/step - loss: 0.7216 - accuracy: 0.6949 - val_loss: 0.6796 - val_accuracy: 0.7127\n",
            "Epoch 22/100\n",
            "744/744 [==============================] - 4s 5ms/step - loss: 0.7200 - accuracy: 0.6962 - val_loss: 0.6789 - val_accuracy: 0.7126\n",
            "Epoch 23/100\n",
            "744/744 [==============================] - 4s 5ms/step - loss: 0.7180 - accuracy: 0.6968 - val_loss: 0.6771 - val_accuracy: 0.7132\n",
            "Epoch 24/100\n",
            "744/744 [==============================] - 4s 5ms/step - loss: 0.7160 - accuracy: 0.6980 - val_loss: 0.6747 - val_accuracy: 0.7150\n",
            "Epoch 25/100\n",
            "744/744 [==============================] - 4s 5ms/step - loss: 0.7148 - accuracy: 0.6990 - val_loss: 0.6744 - val_accuracy: 0.7158\n",
            "Epoch 26/100\n",
            "744/744 [==============================] - 4s 5ms/step - loss: 0.7125 - accuracy: 0.6998 - val_loss: 0.6698 - val_accuracy: 0.7177\n",
            "Epoch 27/100\n",
            "744/744 [==============================] - 4s 5ms/step - loss: 0.7103 - accuracy: 0.7012 - val_loss: 0.6714 - val_accuracy: 0.7160\n",
            "Epoch 28/100\n",
            "744/744 [==============================] - 4s 5ms/step - loss: 0.7087 - accuracy: 0.7008 - val_loss: 0.6708 - val_accuracy: 0.7152\n"
          ],
          "name": "stdout"
        },
        {
          "output_type": "execute_result",
          "data": {
            "text/plain": [
              "<tensorflow.python.keras.callbacks.History at 0x7fc8ead24160>"
            ]
          },
          "metadata": {
            "tags": []
          },
          "execution_count": 17
        }
      ]
    },
    {
      "cell_type": "markdown",
      "metadata": {
        "id": "_vhblI5a9Zly",
        "colab_type": "text"
      },
      "source": [
        "## モデルの評価"
      ]
    },
    {
      "cell_type": "code",
      "metadata": {
        "id": "A09tgEvp66mR",
        "colab_type": "code",
        "colab": {
          "base_uri": "https://localhost:8080/",
          "height": 71
        },
        "outputId": "f5e83d49-6ccd-4ac7-d227-5f70b9db0bed"
      },
      "source": [
        "result = model.evaluate(x=ica_test_X, y=categorical_test_y, batch_size=500)\n",
        "print('test loss:{loss}'.format(loss=result[0]))\n",
        "print('test auc:{auc}'.format(auc=result[1]))"
      ],
      "execution_count": 18,
      "outputs": [
        {
          "output_type": "stream",
          "text": [
            "233/233 [==============================] - 1s 3ms/step - loss: 0.6673 - accuracy: 0.7181\n",
            "test loss:0.6672748327255249\n",
            "test auc:0.7180795669555664\n"
          ],
          "name": "stdout"
        }
      ]
    },
    {
      "cell_type": "markdown",
      "metadata": {
        "id": "Ec5MjVkYGxLI",
        "colab_type": "text"
      },
      "source": [
        "### 主な分類指標を示すレポート"
      ]
    },
    {
      "cell_type": "code",
      "metadata": {
        "id": "8kuksI80D2du",
        "colab_type": "code",
        "colab": {
          "base_uri": "https://localhost:8080/",
          "height": 379
        },
        "outputId": "8b7cf61d-5d8b-4530-cdf2-49c5e852be64"
      },
      "source": [
        "predict_y = model.predict_classes(x=ica_test_X, batch_size=500)\n",
        "\n",
        "report = classification_report(y_true=test_y, y_pred=predict_y+1)\n",
        "print(report)"
      ],
      "execution_count": 20,
      "outputs": [
        {
          "output_type": "stream",
          "text": [
            "WARNING:tensorflow:From <ipython-input-20-0f90b5d860b7>:1: Sequential.predict_classes (from tensorflow.python.keras.engine.sequential) is deprecated and will be removed after 2021-01-01.\n",
            "Instructions for updating:\n",
            "Please use instead:* `np.argmax(model.predict(x), axis=-1)`,   if your model does multi-class classification   (e.g. if it uses a `softmax` last-layer activation).* `(model.predict(x) > 0.5).astype(\"int32\")`,   if your model does binary classification   (e.g. if it uses a `sigmoid` last-layer activation).\n",
            "              precision    recall  f1-score   support\n",
            "\n",
            "           1       0.68      0.77      0.72     42488\n",
            "           2       0.76      0.77      0.77     56473\n",
            "           3       0.63      0.87      0.73      7355\n",
            "           4       0.00      0.00      0.00       524\n",
            "           5       0.00      0.00      0.00      1866\n",
            "           6       0.00      0.00      0.00      3432\n",
            "           7       0.79      0.20      0.32      4065\n",
            "\n",
            "    accuracy                           0.72    116203\n",
            "   macro avg       0.41      0.37      0.36    116203\n",
            "weighted avg       0.69      0.72      0.69    116203\n",
            "\n"
          ],
          "name": "stdout"
        },
        {
          "output_type": "stream",
          "text": [
            "/usr/local/lib/python3.6/dist-packages/sklearn/metrics/_classification.py:1272: UndefinedMetricWarning: Precision and F-score are ill-defined and being set to 0.0 in labels with no predicted samples. Use `zero_division` parameter to control this behavior.\n",
            "  _warn_prf(average, modifier, msg_start, len(result))\n"
          ],
          "name": "stderr"
        }
      ]
    },
    {
      "cell_type": "markdown",
      "metadata": {
        "id": "EGtGkMViG6F8",
        "colab_type": "text"
      },
      "source": [
        "### 混同行列"
      ]
    },
    {
      "cell_type": "code",
      "metadata": {
        "id": "PKTC0whrG9Vv",
        "colab_type": "code",
        "colab": {
          "base_uri": "https://localhost:8080/",
          "height": 143
        },
        "outputId": "f1972428-f7ce-4d13-c7fc-8e1d30fa9edc"
      },
      "source": [
        "cm = confusion_matrix(y_true=test_y, y_pred=predict_y+1)\n",
        "print(cm)"
      ],
      "execution_count": 21,
      "outputs": [
        {
          "output_type": "stream",
          "text": [
            "[[32715  9550     0     0     0     0   223]\n",
            " [12050 43464   956     0     0     0     3]\n",
            " [    0   920  6435     0     0     0     0]\n",
            " [    0     0   524     0     0     0     0]\n",
            " [   20  1790    56     0     0     0     0]\n",
            " [    0  1129  2303     0     0     0     0]\n",
            " [ 3216    20     0     0     0     0   829]]\n"
          ],
          "name": "stdout"
        }
      ]
    },
    {
      "cell_type": "markdown",
      "metadata": {
        "id": "lH_FxU8k9ovt",
        "colab_type": "text"
      },
      "source": [
        "### モデルの保存"
      ]
    },
    {
      "cell_type": "code",
      "metadata": {
        "id": "B6KIvycq_bUu",
        "colab_type": "code",
        "colab": {}
      },
      "source": [
        "model_file = os.path.join(LOG_DIR, model_name+'_'+datetime.datetime.now().strftime(\"%Y%m%d-%H%M%S\")+'.h5')\n",
        "model.save_weights(model_file)"
      ],
      "execution_count": null,
      "outputs": []
    },
    {
      "cell_type": "code",
      "metadata": {
        "id": "pwWjmRndAAli",
        "colab_type": "code",
        "colab": {}
      },
      "source": [
        "!ls logs/fit"
      ],
      "execution_count": null,
      "outputs": []
    },
    {
      "cell_type": "code",
      "metadata": {
        "id": "yd9A1vdb9tbV",
        "colab_type": "code",
        "colab": {}
      },
      "source": [
        "%tensorboard --logdir logs/fit/compress_dim_ica"
      ],
      "execution_count": null,
      "outputs": []
    },
    {
      "cell_type": "code",
      "metadata": {
        "id": "O3bphGUEuaT0",
        "colab_type": "code",
        "colab": {}
      },
      "source": [
        "# モジュールを修正した場合のリロード用\n",
        "import importlib\n",
        "importlib.reload(ml.model)"
      ],
      "execution_count": null,
      "outputs": []
    }
  ]
}
