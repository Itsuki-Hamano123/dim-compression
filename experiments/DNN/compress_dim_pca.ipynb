{
  "nbformat": 4,
  "nbformat_minor": 0,
  "metadata": {
    "colab": {
      "name": "compress_dim_pca.ipynb",
      "provenance": [],
      "collapsed_sections": [],
      "authorship_tag": "ABX9TyOiVnUtqpfzMWPYKt80UIcj",
      "include_colab_link": true
    },
    "kernelspec": {
      "name": "python3",
      "display_name": "Python 3"
    },
    "accelerator": "GPU"
  },
  "cells": [
    {
      "cell_type": "markdown",
      "metadata": {
        "id": "view-in-github",
        "colab_type": "text"
      },
      "source": [
        "<a href=\"https://colab.research.google.com/github/Itsuki-Hamano123/dim-compression/blob/master/experiments/compress_dim_pca.ipynb\" target=\"_parent\"><img src=\"https://colab.research.google.com/assets/colab-badge.svg\" alt=\"Open In Colab\"/></a>"
      ]
    },
    {
      "cell_type": "markdown",
      "metadata": {
        "id": "EGia4kD5Ye7p",
        "colab_type": "text"
      },
      "source": [
        "# PCA(主成分分析)で次元圧縮"
      ]
    },
    {
      "cell_type": "code",
      "metadata": {
        "id": "Sn8NG08PQeE3",
        "colab_type": "code",
        "colab": {}
      },
      "source": [
        "import os\n",
        "import datetime\n",
        "\n",
        "import cloudpickle\n",
        "import pandas as pd\n",
        "\n",
        "from sklearn.datasets import fetch_covtype\n",
        "from sklearn.model_selection import train_test_split\n",
        "from sklearn.preprocessing import StandardScaler \n",
        "from sklearn.decomposition import PCA\n",
        "from sklearn.metrics import classification_report, confusion_matrix\n",
        "import tensorflow as tf\n",
        "from tensorflow.keras.utils import to_categorical\n",
        "from tensorflow.keras.callbacks import EarlyStopping, TensorBoard"
      ],
      "execution_count": 20,
      "outputs": []
    },
    {
      "cell_type": "code",
      "metadata": {
        "id": "skuEjdhJZEY-",
        "colab_type": "code",
        "colab": {}
      },
      "source": [
        "print('{lib}:{ver}'.format(lib='tf',ver=tf.__version__))\n",
        "!pip show scikit-learn"
      ],
      "execution_count": null,
      "outputs": []
    },
    {
      "cell_type": "markdown",
      "metadata": {
        "id": "O_0NUB0baOJN",
        "colab_type": "text"
      },
      "source": [
        "# covtypeデータ読み込み\n",
        "特徴量54次元で7クラス分類を行うデータ<br>\n",
        "[scikit-learnのリファレンス](https://scikit-learn.org/stable/modules/generated/sklearn.datasets.fetch_covtype.html#sklearn.datasets.fetch_covtype)<br>\n",
        "[データセットの詳細ページ](https://archive.ics.uci.edu/ml/datasets/Covertype)\n"
      ]
    },
    {
      "cell_type": "code",
      "metadata": {
        "id": "BPgBv1ECZ-E3",
        "colab_type": "code",
        "colab": {
          "base_uri": "https://localhost:8080/",
          "height": 361
        },
        "outputId": "f729bbd1-f7ef-4505-80db-137616d75d6e"
      },
      "source": [
        "SEED = 2\n",
        "\n",
        "data_bunch = fetch_covtype(random_state=SEED,\n",
        "                           shuffle=True,\n",
        "                           return_X_y=False)\n",
        "\n",
        "print('data shape:{shape}'.format(shape=data_bunch.data.shape))\n",
        "print('target shape:{shape}'.format(shape=data_bunch.target.shape))\n",
        "data_bunch"
      ],
      "execution_count": 3,
      "outputs": [
        {
          "output_type": "stream",
          "text": [
            "Downloading https://ndownloader.figshare.com/files/5976039\n"
          ],
          "name": "stderr"
        },
        {
          "output_type": "stream",
          "text": [
            "data shape:(581012, 54)\n",
            "target shape:(581012,)\n"
          ],
          "name": "stdout"
        },
        {
          "output_type": "execute_result",
          "data": {
            "text/plain": [
              "{'DESCR': \".. _covtype_dataset:\\n\\nForest covertypes\\n-----------------\\n\\nThe samples in this dataset correspond to 30×30m patches of forest in the US,\\ncollected for the task of predicting each patch's cover type,\\ni.e. the dominant species of tree.\\nThere are seven covertypes, making this a multiclass classification problem.\\nEach sample has 54 features, described on the\\n`dataset's homepage <https://archive.ics.uci.edu/ml/datasets/Covertype>`__.\\nSome of the features are boolean indicators,\\nwhile others are discrete or continuous measurements.\\n\\n**Data Set Characteristics:**\\n\\n    =================   ============\\n    Classes                        7\\n    Samples total             581012\\n    Dimensionality                54\\n    Features                     int\\n    =================   ============\\n\\n:func:`sklearn.datasets.fetch_covtype` will load the covertype dataset;\\nit returns a dictionary-like object\\nwith the feature matrix in the ``data`` member\\nand the target values in ``target``.\\nThe dataset will be downloaded from the web if necessary.\\n\",\n",
              " 'data': array([[3.221e+03, 3.900e+01, 1.600e+01, ..., 0.000e+00, 0.000e+00,\n",
              "         0.000e+00],\n",
              "        [3.348e+03, 9.700e+01, 1.200e+01, ..., 1.000e+00, 0.000e+00,\n",
              "         0.000e+00],\n",
              "        [3.114e+03, 1.770e+02, 2.000e+01, ..., 0.000e+00, 0.000e+00,\n",
              "         0.000e+00],\n",
              "        ...,\n",
              "        [2.960e+03, 1.200e+02, 2.600e+01, ..., 0.000e+00, 0.000e+00,\n",
              "         0.000e+00],\n",
              "        [3.247e+03, 4.600e+01, 1.900e+01, ..., 1.000e+00, 0.000e+00,\n",
              "         0.000e+00],\n",
              "        [2.975e+03, 9.900e+01, 8.000e+00, ..., 0.000e+00, 0.000e+00,\n",
              "         0.000e+00]]),\n",
              " 'target': array([1, 1, 2, ..., 2, 2, 2], dtype=int32)}"
            ]
          },
          "metadata": {
            "tags": []
          },
          "execution_count": 3
        }
      ]
    },
    {
      "cell_type": "code",
      "metadata": {
        "id": "YkvZ3OfDa3aD",
        "colab_type": "code",
        "colab": {
          "base_uri": "https://localhost:8080/",
          "height": 71
        },
        "outputId": "b83d00c1-2eee-41a8-8260-dea44e7cef56"
      },
      "source": [
        "# 訓練データ,テストデータに分割\n",
        "train_X, test_X, train_y, test_y = train_test_split(data_bunch.data, data_bunch.target,\n",
        "                                                    test_size=0.2, random_state=SEED)\n",
        "# 訓練データ,検証データに分割\n",
        "train_X, validation_X, train_y, validation_y = train_test_split(train_X, train_y,\n",
        "                                                                test_size=0.2, random_state=SEED)\n",
        "\n",
        "print('train size:{size}'.format(size=train_y.shape[0]))\n",
        "print('validation size:{size}'.format(size=validation_y.shape[0]))\n",
        "print('test size:{size}'.format(size=test_y.shape[0]))"
      ],
      "execution_count": 4,
      "outputs": [
        {
          "output_type": "stream",
          "text": [
            "train size:371847\n",
            "validation size:92962\n",
            "test size:116203\n"
          ],
          "name": "stdout"
        }
      ]
    },
    {
      "cell_type": "code",
      "metadata": {
        "id": "KEyJnTgK50lX",
        "colab_type": "code",
        "colab": {}
      },
      "source": [
        "NUM_CLASS = 7\n",
        "\n",
        "# 予測ラベルをone-hotエンコード\n",
        "categorical_train_y = to_categorical(train_y-1, num_classes=NUM_CLASS)\n",
        "categorical_validation_y = to_categorical(validation_y-1, num_classes=NUM_CLASS)\n",
        "categorical_test_y = to_categorical(test_y-1, num_classes=NUM_CLASS)"
      ],
      "execution_count": 5,
      "outputs": []
    },
    {
      "cell_type": "markdown",
      "metadata": {
        "id": "5iNfcuX-ffaf",
        "colab_type": "text"
      },
      "source": [
        "# データの前処理"
      ]
    },
    {
      "cell_type": "markdown",
      "metadata": {
        "id": "pnMV2Jpvfi9c",
        "colab_type": "text"
      },
      "source": [
        "## 標準化"
      ]
    },
    {
      "cell_type": "code",
      "metadata": {
        "id": "NWWymQMXcWnW",
        "colab_type": "code",
        "colab": {
          "base_uri": "https://localhost:8080/",
          "height": 35
        },
        "outputId": "89a597a3-8940-45a1-b680-6989ca443404"
      },
      "source": [
        "STD_SCALER = StandardScaler()\n",
        "# 標準化器を作成\n",
        "STD_SCALER.fit(train_X)\n",
        "print('sclaer fit end')"
      ],
      "execution_count": 6,
      "outputs": [
        {
          "output_type": "stream",
          "text": [
            "sclaer fit end\n"
          ],
          "name": "stdout"
        }
      ]
    },
    {
      "cell_type": "code",
      "metadata": {
        "id": "GN5s79t1gUGZ",
        "colab_type": "code",
        "colab": {
          "base_uri": "https://localhost:8080/",
          "height": 53
        },
        "outputId": "775b7509-196f-479b-83ab-564fc9b34c64"
      },
      "source": [
        "# 訓練データを標準化\n",
        "std_train_X = STD_SCALER.transform(train_X, copy=True)\n",
        "std_train_X[:,0]"
      ],
      "execution_count": 7,
      "outputs": [
        {
          "output_type": "execute_result",
          "data": {
            "text/plain": [
              "array([ 0.31952626, -1.6259504 ,  1.09557117, ..., -0.64605958,\n",
              "       -0.18830037,  1.2529259 ])"
            ]
          },
          "metadata": {
            "tags": []
          },
          "execution_count": 7
        }
      ]
    },
    {
      "cell_type": "code",
      "metadata": {
        "id": "sLEhF0wOgoP0",
        "colab_type": "code",
        "colab": {}
      },
      "source": [
        "# 検証/テストデータも標準化\n",
        "std_validation_X = STD_SCALER.transform(validation_X, copy=True)\n",
        "std_test_X = STD_SCALER.transform(test_X, copy=True)"
      ],
      "execution_count": 8,
      "outputs": []
    },
    {
      "cell_type": "markdown",
      "metadata": {
        "id": "h-iI7keYiYWp",
        "colab_type": "text"
      },
      "source": [
        "## PCAで次元圧縮"
      ]
    },
    {
      "cell_type": "code",
      "metadata": {
        "id": "3WLGK95hgpOZ",
        "colab_type": "code",
        "colab": {
          "base_uri": "https://localhost:8080/",
          "height": 71
        },
        "outputId": "edd0a43f-de77-47a0-c5e3-69f0f6c3fb70"
      },
      "source": [
        "# 累積寄与率\n",
        "ACCUMULATION_CONTIBUTION_RATE = 0.95\n",
        "\n",
        "pca = PCA(n_components=ACCUMULATION_CONTIBUTION_RATE)\n",
        "pca.fit(std_train_X)\n",
        "\n",
        "print('圧縮前の次元サイズ:{size}'.format(size=std_train_X.shape[1]))\n",
        "print('圧縮後の次元サイズ:{size}'.format(size=len(pca.explained_variance_ratio_)))\n",
        "print('累積寄与率:{rate}'.format(rate=pca.explained_variance_ratio_.sum()))"
      ],
      "execution_count": 9,
      "outputs": [
        {
          "output_type": "stream",
          "text": [
            "圧縮前の次元サイズ:54\n",
            "圧縮後の次元サイズ:43\n",
            "累積寄与率:0.9504606638174287\n"
          ],
          "name": "stdout"
        }
      ]
    },
    {
      "cell_type": "code",
      "metadata": {
        "id": "MBGrGtm5gyyJ",
        "colab_type": "code",
        "colab": {}
      },
      "source": [
        "# 訓練/検証/テストデータをPCAで次元圧縮\n",
        "pca_train_X = pca.transform(std_train_X)\n",
        "pca_validation_X = pca.transform(std_validation_X)\n",
        "pca_test_X = pca.transform(std_test_X)"
      ],
      "execution_count": 10,
      "outputs": []
    },
    {
      "cell_type": "markdown",
      "metadata": {
        "id": "88zTw2fXnKlX",
        "colab_type": "text"
      },
      "source": [
        "# DNN(classifier)でクラス分類モデル構築"
      ]
    },
    {
      "cell_type": "code",
      "metadata": {
        "id": "IWRbQhlCrqjJ",
        "colab_type": "code",
        "colab": {
          "base_uri": "https://localhost:8080/",
          "height": 145
        },
        "outputId": "d2263b94-c392-4c6b-a85d-c8475b744f6e"
      },
      "source": [
        "from google.colab import drive\n",
        "drive.mount('/gdrive')\n",
        "%cd /gdrive"
      ],
      "execution_count": 11,
      "outputs": [
        {
          "output_type": "stream",
          "text": [
            "Go to this URL in a browser: https://accounts.google.com/o/oauth2/auth?client_id=947318989803-6bn6qk8qdgf4n4g3pfee6491hc0brc4i.apps.googleusercontent.com&redirect_uri=urn%3aietf%3awg%3aoauth%3a2.0%3aoob&response_type=code&scope=email%20https%3a%2f%2fwww.googleapis.com%2fauth%2fdocs.test%20https%3a%2f%2fwww.googleapis.com%2fauth%2fdrive%20https%3a%2f%2fwww.googleapis.com%2fauth%2fdrive.photos.readonly%20https%3a%2f%2fwww.googleapis.com%2fauth%2fpeopleapi.readonly\n",
            "\n",
            "Enter your authorization code:\n",
            "··········\n",
            "Mounted at /gdrive\n",
            "/gdrive\n"
          ],
          "name": "stdout"
        }
      ]
    },
    {
      "cell_type": "code",
      "metadata": {
        "id": "7QPlFu7przWN",
        "colab_type": "code",
        "colab": {
          "base_uri": "https://localhost:8080/",
          "height": 35
        },
        "outputId": "1dd4acee-fa21-4eb3-bde4-e199d89b1a76"
      },
      "source": [
        "cd My Drive/機械学習練習/次元圧縮手法_比較/experiment"
      ],
      "execution_count": 12,
      "outputs": [
        {
          "output_type": "stream",
          "text": [
            "/gdrive/My Drive/機械学習練習/次元圧縮手法_比較/experiment\n"
          ],
          "name": "stdout"
        }
      ]
    },
    {
      "cell_type": "code",
      "metadata": {
        "id": "7f8quVUarr07",
        "colab_type": "code",
        "colab": {
          "base_uri": "https://localhost:8080/",
          "height": 53
        },
        "outputId": "a9d9636f-cafd-4add-add6-742ad3bc6c8f"
      },
      "source": [
        "!ls "
      ],
      "execution_count": 13,
      "outputs": [
        {
          "output_type": "stream",
          "text": [
            "compress_dim_ica.ipynb\tcompress_dim_tsne.ipynb  ml\n",
            "compress_dim_pca.ipynb\tlogs\n"
          ],
          "name": "stdout"
        }
      ]
    },
    {
      "cell_type": "code",
      "metadata": {
        "id": "TdxD0q9nr9TL",
        "colab_type": "code",
        "colab": {}
      },
      "source": [
        "from ml.model import classifier_DNN_fn\n",
        "\n",
        "LOG_DIR = 'logs'\n",
        "model_name = 'compress_dim_pca'"
      ],
      "execution_count": 14,
      "outputs": []
    },
    {
      "cell_type": "code",
      "metadata": {
        "id": "DBtleF-zsQ6A",
        "colab_type": "code",
        "colab": {
          "base_uri": "https://localhost:8080/",
          "height": 341
        },
        "outputId": "7582f909-f6b7-404b-84e6-8b1fe07e5d65"
      },
      "source": [
        "model = classifier_DNN_fn(input_shape=pca_train_X.shape[1],\n",
        "                          output_shape=NUM_CLASS,\n",
        "                          hidden_shapes=[30, 20])\n",
        "model.summary()"
      ],
      "execution_count": 15,
      "outputs": [
        {
          "output_type": "stream",
          "text": [
            "Model: \"sequential\"\n",
            "_________________________________________________________________\n",
            "Layer (type)                 Output Shape              Param #   \n",
            "=================================================================\n",
            "dense (Dense)                (None, 30)                1320      \n",
            "_________________________________________________________________\n",
            "dropout (Dropout)            (None, 30)                0         \n",
            "_________________________________________________________________\n",
            "dense_1 (Dense)              (None, 20)                620       \n",
            "_________________________________________________________________\n",
            "dropout_1 (Dropout)          (None, 20)                0         \n",
            "_________________________________________________________________\n",
            "dense_2 (Dense)              (None, 7)                 147       \n",
            "=================================================================\n",
            "Total params: 2,087\n",
            "Trainable params: 2,087\n",
            "Non-trainable params: 0\n",
            "_________________________________________________________________\n"
          ],
          "name": "stdout"
        }
      ]
    },
    {
      "cell_type": "code",
      "metadata": {
        "id": "8OdWTGPowx8c",
        "colab_type": "code",
        "colab": {}
      },
      "source": [
        "model.compile(optimizer='adam', loss='categorical_crossentropy', metrics=['accuracy'])\n",
        "\n",
        "est = EarlyStopping(patience=2)\n",
        "\n",
        "# Load the TensorBoard notebook extension\n",
        "%load_ext tensorboard\n",
        "#%reload_ext tensorboard\n",
        "log_dir = os.path.join(LOG_DIR, 'fit', model_name, datetime.datetime.now().strftime(\"%Y%m%d-%H%M%S\"))\n",
        "tensorboard_callback = TensorBoard(log_dir=log_dir, histogram_freq=1)"
      ],
      "execution_count": 16,
      "outputs": []
    },
    {
      "cell_type": "markdown",
      "metadata": {
        "id": "T4Ws2sDB9aYa",
        "colab_type": "text"
      },
      "source": [
        "## モデルの学習"
      ]
    },
    {
      "cell_type": "code",
      "metadata": {
        "id": "a4c2IrcgzE3m",
        "colab_type": "code",
        "colab": {
          "base_uri": "https://localhost:8080/",
          "height": 1000
        },
        "outputId": "9dec153f-4b40-4b92-f3a1-d6d2ba3370bf"
      },
      "source": [
        "model.fit(x=pca_train_X, y=categorical_train_y, batch_size=500, epochs=30,\n",
        "          validation_data=(pca_validation_X, categorical_validation_y),\n",
        "          callbacks=[est, tensorboard_callback])"
      ],
      "execution_count": 17,
      "outputs": [
        {
          "output_type": "stream",
          "text": [
            "Epoch 1/30\n",
            "744/744 [==============================] - 5s 6ms/step - loss: 0.9879 - accuracy: 0.5907 - val_loss: 0.7231 - val_accuracy: 0.6865\n",
            "Epoch 2/30\n",
            "744/744 [==============================] - 4s 6ms/step - loss: 0.7706 - accuracy: 0.6733 - val_loss: 0.6822 - val_accuracy: 0.7166\n",
            "Epoch 3/30\n",
            "744/744 [==============================] - 4s 5ms/step - loss: 0.7313 - accuracy: 0.6942 - val_loss: 0.6594 - val_accuracy: 0.7250\n",
            "Epoch 4/30\n",
            "744/744 [==============================] - 4s 5ms/step - loss: 0.7114 - accuracy: 0.7028 - val_loss: 0.6483 - val_accuracy: 0.7281\n",
            "Epoch 5/30\n",
            "744/744 [==============================] - 4s 5ms/step - loss: 0.6988 - accuracy: 0.7082 - val_loss: 0.6365 - val_accuracy: 0.7308\n",
            "Epoch 6/30\n",
            "744/744 [==============================] - 4s 5ms/step - loss: 0.6886 - accuracy: 0.7123 - val_loss: 0.6286 - val_accuracy: 0.7330\n",
            "Epoch 7/30\n",
            "744/744 [==============================] - 4s 5ms/step - loss: 0.6823 - accuracy: 0.7153 - val_loss: 0.6251 - val_accuracy: 0.7336\n",
            "Epoch 8/30\n",
            "744/744 [==============================] - 4s 5ms/step - loss: 0.6766 - accuracy: 0.7173 - val_loss: 0.6187 - val_accuracy: 0.7352\n",
            "Epoch 9/30\n",
            "744/744 [==============================] - 4s 5ms/step - loss: 0.6719 - accuracy: 0.7179 - val_loss: 0.6130 - val_accuracy: 0.7368\n",
            "Epoch 10/30\n",
            "744/744 [==============================] - 4s 5ms/step - loss: 0.6689 - accuracy: 0.7193 - val_loss: 0.6103 - val_accuracy: 0.7388\n",
            "Epoch 11/30\n",
            "744/744 [==============================] - 4s 5ms/step - loss: 0.6654 - accuracy: 0.7205 - val_loss: 0.6074 - val_accuracy: 0.7392\n",
            "Epoch 12/30\n",
            "744/744 [==============================] - 4s 5ms/step - loss: 0.6634 - accuracy: 0.7211 - val_loss: 0.6051 - val_accuracy: 0.7420\n",
            "Epoch 13/30\n",
            "744/744 [==============================] - 4s 5ms/step - loss: 0.6621 - accuracy: 0.7216 - val_loss: 0.6028 - val_accuracy: 0.7411\n",
            "Epoch 14/30\n",
            "744/744 [==============================] - 4s 5ms/step - loss: 0.6596 - accuracy: 0.7226 - val_loss: 0.6017 - val_accuracy: 0.7396\n",
            "Epoch 15/30\n",
            "744/744 [==============================] - 4s 5ms/step - loss: 0.6568 - accuracy: 0.7225 - val_loss: 0.5969 - val_accuracy: 0.7431\n",
            "Epoch 16/30\n",
            "744/744 [==============================] - 4s 5ms/step - loss: 0.6553 - accuracy: 0.7241 - val_loss: 0.5963 - val_accuracy: 0.7426\n",
            "Epoch 17/30\n",
            "744/744 [==============================] - 4s 5ms/step - loss: 0.6538 - accuracy: 0.7237 - val_loss: 0.5942 - val_accuracy: 0.7443\n",
            "Epoch 18/30\n",
            "744/744 [==============================] - 4s 5ms/step - loss: 0.6517 - accuracy: 0.7254 - val_loss: 0.5917 - val_accuracy: 0.7446\n",
            "Epoch 19/30\n",
            "744/744 [==============================] - 4s 5ms/step - loss: 0.6501 - accuracy: 0.7261 - val_loss: 0.5899 - val_accuracy: 0.7457\n",
            "Epoch 20/30\n",
            "744/744 [==============================] - 4s 5ms/step - loss: 0.6497 - accuracy: 0.7258 - val_loss: 0.5892 - val_accuracy: 0.7443\n",
            "Epoch 21/30\n",
            "744/744 [==============================] - 4s 5ms/step - loss: 0.6484 - accuracy: 0.7261 - val_loss: 0.5860 - val_accuracy: 0.7460\n",
            "Epoch 22/30\n",
            "744/744 [==============================] - 4s 5ms/step - loss: 0.6466 - accuracy: 0.7263 - val_loss: 0.5864 - val_accuracy: 0.7448\n",
            "Epoch 23/30\n",
            "744/744 [==============================] - 4s 5ms/step - loss: 0.6458 - accuracy: 0.7268 - val_loss: 0.5840 - val_accuracy: 0.7450\n",
            "Epoch 24/30\n",
            "744/744 [==============================] - 4s 6ms/step - loss: 0.6461 - accuracy: 0.7265 - val_loss: 0.5849 - val_accuracy: 0.7448\n",
            "Epoch 25/30\n",
            "744/744 [==============================] - 4s 5ms/step - loss: 0.6443 - accuracy: 0.7265 - val_loss: 0.5833 - val_accuracy: 0.7450\n",
            "Epoch 26/30\n",
            "744/744 [==============================] - 4s 5ms/step - loss: 0.6439 - accuracy: 0.7271 - val_loss: 0.5828 - val_accuracy: 0.7459\n",
            "Epoch 27/30\n",
            "744/744 [==============================] - 4s 5ms/step - loss: 0.6435 - accuracy: 0.7275 - val_loss: 0.5814 - val_accuracy: 0.7445\n",
            "Epoch 28/30\n",
            "744/744 [==============================] - 4s 5ms/step - loss: 0.6442 - accuracy: 0.7269 - val_loss: 0.5814 - val_accuracy: 0.7444\n",
            "Epoch 29/30\n",
            "744/744 [==============================] - 4s 5ms/step - loss: 0.6427 - accuracy: 0.7278 - val_loss: 0.5808 - val_accuracy: 0.7464\n",
            "Epoch 30/30\n",
            "744/744 [==============================] - 4s 5ms/step - loss: 0.6423 - accuracy: 0.7274 - val_loss: 0.5802 - val_accuracy: 0.7476\n"
          ],
          "name": "stdout"
        },
        {
          "output_type": "execute_result",
          "data": {
            "text/plain": [
              "<tensorflow.python.keras.callbacks.History at 0x7fa2d5464128>"
            ]
          },
          "metadata": {
            "tags": []
          },
          "execution_count": 17
        }
      ]
    },
    {
      "cell_type": "markdown",
      "metadata": {
        "id": "_vhblI5a9Zly",
        "colab_type": "text"
      },
      "source": [
        "## モデルの評価"
      ]
    },
    {
      "cell_type": "code",
      "metadata": {
        "id": "A09tgEvp66mR",
        "colab_type": "code",
        "colab": {
          "base_uri": "https://localhost:8080/",
          "height": 71
        },
        "outputId": "efaa6f07-7a48-424a-c4ff-bdf1596c59e0"
      },
      "source": [
        "result = model.evaluate(x=pca_test_X, y=categorical_test_y, batch_size=500)\n",
        "print('test loss:{loss}'.format(loss=result[0]))\n",
        "print('test auc:{auc}'.format(auc=result[1]))"
      ],
      "execution_count": 18,
      "outputs": [
        {
          "output_type": "stream",
          "text": [
            "233/233 [==============================] - 1s 3ms/step - loss: 0.5750 - accuracy: 0.7508\n",
            "test loss:0.5749784111976624\n",
            "test auc:0.7507981657981873\n"
          ],
          "name": "stdout"
        }
      ]
    },
    {
      "cell_type": "markdown",
      "metadata": {
        "id": "BB82BjXFGgoq",
        "colab_type": "text"
      },
      "source": [
        "### 主な分類指標を示すレポート"
      ]
    },
    {
      "cell_type": "code",
      "metadata": {
        "id": "ysQ2vZAXDYvf",
        "colab_type": "code",
        "colab": {
          "base_uri": "https://localhost:8080/",
          "height": 325
        },
        "outputId": "c7d2dc05-a383-45f6-84b9-df19e0f47c50"
      },
      "source": [
        "predict_y = model.predict_classes(x=pca_test_X, batch_size=500)\n",
        "\n",
        "report = classification_report(y_true=test_y, y_pred=predict_y+1)\n",
        "print(report)"
      ],
      "execution_count": 39,
      "outputs": [
        {
          "output_type": "stream",
          "text": [
            "              precision    recall  f1-score   support\n",
            "\n",
            "           1       0.74      0.76      0.75     42488\n",
            "           2       0.77      0.81      0.79     56473\n",
            "           3       0.64      0.90      0.75      7355\n",
            "           4       0.00      0.00      0.00       524\n",
            "           5       1.00      0.00      0.00      1866\n",
            "           6       0.42      0.02      0.04      3432\n",
            "           7       0.81      0.63      0.71      4065\n",
            "\n",
            "    accuracy                           0.75    116203\n",
            "   macro avg       0.63      0.45      0.43    116203\n",
            "weighted avg       0.74      0.75      0.73    116203\n",
            "\n"
          ],
          "name": "stdout"
        },
        {
          "output_type": "stream",
          "text": [
            "/usr/local/lib/python3.6/dist-packages/sklearn/metrics/_classification.py:1272: UndefinedMetricWarning: Precision and F-score are ill-defined and being set to 0.0 in labels with no predicted samples. Use `zero_division` parameter to control this behavior.\n",
            "  _warn_prf(average, modifier, msg_start, len(result))\n"
          ],
          "name": "stderr"
        }
      ]
    },
    {
      "cell_type": "markdown",
      "metadata": {
        "id": "Hn4kQfxCGleH",
        "colab_type": "text"
      },
      "source": [
        "### 混同行列"
      ]
    },
    {
      "cell_type": "code",
      "metadata": {
        "id": "nI5o4h37GTI2",
        "colab_type": "code",
        "colab": {
          "base_uri": "https://localhost:8080/",
          "height": 143
        },
        "outputId": "e7792e35-2600-421d-d5f0-d111d7436a30"
      },
      "source": [
        "cm = confusion_matrix(y_true=test_y, y_pred=predict_y+1)\n",
        "print(cm)"
      ],
      "execution_count": 40,
      "outputs": [
        {
          "output_type": "stream",
          "text": [
            "[[32106  9818     6     0     0     0   558]\n",
            " [ 9601 45886   887     0     0    41    58]\n",
            " [    0   673  6611     0     0    71     0]\n",
            " [    0     0   524     0     0     0     0]\n",
            " [    0  1809    56     0     1     0     0]\n",
            " [    0  1170  2181     0     0    81     0]\n",
            " [ 1473    32     0     0     0     0  2560]]\n"
          ],
          "name": "stdout"
        }
      ]
    },
    {
      "cell_type": "markdown",
      "metadata": {
        "id": "lH_FxU8k9ovt",
        "colab_type": "text"
      },
      "source": [
        "### モデルの保存"
      ]
    },
    {
      "cell_type": "code",
      "metadata": {
        "id": "B6KIvycq_bUu",
        "colab_type": "code",
        "colab": {}
      },
      "source": [
        "model_file = os.path.join(LOG_DIR, model_name+'_'+datetime.datetime.now().strftime(\"%Y%m%d-%H%M%S\")+'.h5')\n",
        "model.save_weights(model_file)"
      ],
      "execution_count": 41,
      "outputs": []
    },
    {
      "cell_type": "code",
      "metadata": {
        "id": "pwWjmRndAAli",
        "colab_type": "code",
        "colab": {
          "base_uri": "https://localhost:8080/",
          "height": 35
        },
        "outputId": "442d4109-a56d-4a58-cb7c-b8dc256dc0a7"
      },
      "source": [
        "!ls logs/fit"
      ],
      "execution_count": 42,
      "outputs": [
        {
          "output_type": "stream",
          "text": [
            "compress_dim_ica  compress_dim_pca\n"
          ],
          "name": "stdout"
        }
      ]
    },
    {
      "cell_type": "code",
      "metadata": {
        "id": "yd9A1vdb9tbV",
        "colab_type": "code",
        "colab": {}
      },
      "source": [
        "%tensorboard --logdir logs/fit/compress_dim_pca"
      ],
      "execution_count": null,
      "outputs": []
    },
    {
      "cell_type": "code",
      "metadata": {
        "id": "O3bphGUEuaT0",
        "colab_type": "code",
        "colab": {}
      },
      "source": [
        "# モジュールを修正した場合のリロード用\n",
        "import importlib\n",
        "importlib.reload(ml.model)"
      ],
      "execution_count": null,
      "outputs": []
    }
  ]
}
