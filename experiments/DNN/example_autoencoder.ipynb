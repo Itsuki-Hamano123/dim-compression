{
  "nbformat": 4,
  "nbformat_minor": 0,
  "metadata": {
    "colab": {
      "name": "example_autoencoder.ipynb",
      "provenance": [],
      "collapsed_sections": [],
      "toc_visible": true,
      "authorship_tag": "ABX9TyMMXth+eSC47xNvLp3fB1P0",
      "include_colab_link": true
    },
    "kernelspec": {
      "name": "python3",
      "display_name": "Python 3"
    }
  },
  "cells": [
    {
      "cell_type": "markdown",
      "metadata": {
        "id": "view-in-github",
        "colab_type": "text"
      },
      "source": [
        "<a href=\"https://colab.research.google.com/github/Itsuki-Hamano123/dim-compression/blob/master/experiments/DNN/example_autoencoder.ipynb\" target=\"_parent\"><img src=\"https://colab.research.google.com/assets/colab-badge.svg\" alt=\"Open In Colab\"/></a>"
      ]
    },
    {
      "cell_type": "markdown",
      "metadata": {
        "id": "EGia4kD5Ye7p",
        "colab_type": "text"
      },
      "source": [
        "# autoencoderを実装してみる"
      ]
    },
    {
      "cell_type": "code",
      "metadata": {
        "id": "Sn8NG08PQeE3",
        "colab_type": "code",
        "colab": {}
      },
      "source": [
        "import os\n",
        "import datetime\n",
        "\n",
        "import pandas as pd\n",
        "\n",
        "from sklearn.datasets import fetch_covtype\n",
        "from sklearn.model_selection import train_test_split\n",
        "from sklearn.preprocessing import StandardScaler \n",
        "from sklearn.metrics import classification_report, confusion_matrix\n",
        "import tensorflow as tf\n",
        "from tensorflow.keras.utils import to_categorical\n",
        "from tensorflow.keras.layers import Input, Dense\n",
        "from tensorflow.keras.models import Model\n",
        "from tensorflow.keras.callbacks import EarlyStopping"
      ],
      "execution_count": 1,
      "outputs": []
    },
    {
      "cell_type": "code",
      "metadata": {
        "id": "skuEjdhJZEY-",
        "colab_type": "code",
        "colab": {
          "base_uri": "https://localhost:8080/",
          "height": 215
        },
        "outputId": "3cd9f39b-b271-4c3e-d822-8cc5a8701777"
      },
      "source": [
        "print('{lib}:{ver}'.format(lib='tf',ver=tf.__version__))\n",
        "!pip show scikit-learn"
      ],
      "execution_count": 2,
      "outputs": [
        {
          "output_type": "stream",
          "text": [
            "tf:2.2.0\n",
            "Name: scikit-learn\n",
            "Version: 0.22.2.post1\n",
            "Summary: A set of python modules for machine learning and data mining\n",
            "Home-page: http://scikit-learn.org\n",
            "Author: None\n",
            "Author-email: None\n",
            "License: new BSD\n",
            "Location: /usr/local/lib/python3.6/dist-packages\n",
            "Requires: numpy, scipy, joblib\n",
            "Required-by: yellowbrick, umap-learn, textgenrnn, sklearn, sklearn-pandas, mlxtend, lucid, lightgbm, librosa, imbalanced-learn, fancyimpute\n"
          ],
          "name": "stdout"
        }
      ]
    },
    {
      "cell_type": "markdown",
      "metadata": {
        "id": "O_0NUB0baOJN",
        "colab_type": "text"
      },
      "source": [
        "# covtypeデータ読み込み\n",
        "特徴量54次元で7クラス分類を行うデータ<br>\n",
        "[scikit-learnのリファレンス](https://scikit-learn.org/stable/modules/generated/sklearn.datasets.fetch_covtype.html#sklearn.datasets.fetch_covtype)<br>\n",
        "[データセットの詳細ページ](https://archive.ics.uci.edu/ml/datasets/Covertype)\n"
      ]
    },
    {
      "cell_type": "code",
      "metadata": {
        "id": "BPgBv1ECZ-E3",
        "colab_type": "code",
        "colab": {
          "base_uri": "https://localhost:8080/",
          "height": 361
        },
        "outputId": "7e94da8b-73f1-4686-de0d-c23b85cd3913"
      },
      "source": [
        "SEED = 2\n",
        "\n",
        "data_bunch = fetch_covtype(random_state=SEED,\n",
        "                           shuffle=True,\n",
        "                           return_X_y=False)\n",
        "\n",
        "print('data shape:{shape}'.format(shape=data_bunch.data.shape))\n",
        "print('target shape:{shape}'.format(shape=data_bunch.target.shape))\n",
        "data_bunch"
      ],
      "execution_count": 3,
      "outputs": [
        {
          "output_type": "stream",
          "text": [
            "Downloading https://ndownloader.figshare.com/files/5976039\n"
          ],
          "name": "stderr"
        },
        {
          "output_type": "stream",
          "text": [
            "data shape:(581012, 54)\n",
            "target shape:(581012,)\n"
          ],
          "name": "stdout"
        },
        {
          "output_type": "execute_result",
          "data": {
            "text/plain": [
              "{'DESCR': \".. _covtype_dataset:\\n\\nForest covertypes\\n-----------------\\n\\nThe samples in this dataset correspond to 30×30m patches of forest in the US,\\ncollected for the task of predicting each patch's cover type,\\ni.e. the dominant species of tree.\\nThere are seven covertypes, making this a multiclass classification problem.\\nEach sample has 54 features, described on the\\n`dataset's homepage <https://archive.ics.uci.edu/ml/datasets/Covertype>`__.\\nSome of the features are boolean indicators,\\nwhile others are discrete or continuous measurements.\\n\\n**Data Set Characteristics:**\\n\\n    =================   ============\\n    Classes                        7\\n    Samples total             581012\\n    Dimensionality                54\\n    Features                     int\\n    =================   ============\\n\\n:func:`sklearn.datasets.fetch_covtype` will load the covertype dataset;\\nit returns a dictionary-like object\\nwith the feature matrix in the ``data`` member\\nand the target values in ``target``.\\nThe dataset will be downloaded from the web if necessary.\\n\",\n",
              " 'data': array([[3.221e+03, 3.900e+01, 1.600e+01, ..., 0.000e+00, 0.000e+00,\n",
              "         0.000e+00],\n",
              "        [3.348e+03, 9.700e+01, 1.200e+01, ..., 1.000e+00, 0.000e+00,\n",
              "         0.000e+00],\n",
              "        [3.114e+03, 1.770e+02, 2.000e+01, ..., 0.000e+00, 0.000e+00,\n",
              "         0.000e+00],\n",
              "        ...,\n",
              "        [2.960e+03, 1.200e+02, 2.600e+01, ..., 0.000e+00, 0.000e+00,\n",
              "         0.000e+00],\n",
              "        [3.247e+03, 4.600e+01, 1.900e+01, ..., 1.000e+00, 0.000e+00,\n",
              "         0.000e+00],\n",
              "        [2.975e+03, 9.900e+01, 8.000e+00, ..., 0.000e+00, 0.000e+00,\n",
              "         0.000e+00]]),\n",
              " 'target': array([1, 1, 2, ..., 2, 2, 2], dtype=int32)}"
            ]
          },
          "metadata": {
            "tags": []
          },
          "execution_count": 3
        }
      ]
    },
    {
      "cell_type": "code",
      "metadata": {
        "id": "YkvZ3OfDa3aD",
        "colab_type": "code",
        "colab": {
          "base_uri": "https://localhost:8080/",
          "height": 71
        },
        "outputId": "a4339a0e-cc8b-4d96-ccd5-66f49a7be38f"
      },
      "source": [
        "# 訓練データ,テストデータに分割\n",
        "train_X, test_X, train_y, test_y = train_test_split(data_bunch.data, data_bunch.target,\n",
        "                                                    test_size=0.2, random_state=SEED)\n",
        "# 訓練データ,検証データに分割\n",
        "train_X, validation_X, train_y, validation_y = train_test_split(train_X, train_y,\n",
        "                                                                test_size=0.2, random_state=SEED)\n",
        "\n",
        "print('train size:{size}'.format(size=train_y.shape[0]))\n",
        "print('validation size:{size}'.format(size=validation_y.shape[0]))\n",
        "print('test size:{size}'.format(size=test_y.shape[0]))"
      ],
      "execution_count": 4,
      "outputs": [
        {
          "output_type": "stream",
          "text": [
            "train size:371847\n",
            "validation size:92962\n",
            "test size:116203\n"
          ],
          "name": "stdout"
        }
      ]
    },
    {
      "cell_type": "code",
      "metadata": {
        "id": "KEyJnTgK50lX",
        "colab_type": "code",
        "colab": {}
      },
      "source": [
        "NUM_CLASS = 7\n",
        "\n",
        "# 予測ラベルをone-hotエンコード\n",
        "categorical_train_y = to_categorical(train_y-1, num_classes=NUM_CLASS)\n",
        "categorical_validation_y = to_categorical(validation_y-1, num_classes=NUM_CLASS)\n",
        "categorical_test_y = to_categorical(test_y-1, num_classes=NUM_CLASS)"
      ],
      "execution_count": 5,
      "outputs": []
    },
    {
      "cell_type": "markdown",
      "metadata": {
        "id": "5iNfcuX-ffaf",
        "colab_type": "text"
      },
      "source": [
        "# データの前処理"
      ]
    },
    {
      "cell_type": "markdown",
      "metadata": {
        "id": "pnMV2Jpvfi9c",
        "colab_type": "text"
      },
      "source": [
        "## 標準化"
      ]
    },
    {
      "cell_type": "code",
      "metadata": {
        "id": "NWWymQMXcWnW",
        "colab_type": "code",
        "colab": {
          "base_uri": "https://localhost:8080/",
          "height": 35
        },
        "outputId": "0e9968a5-d26a-4b7b-c09d-95b8883bc978"
      },
      "source": [
        "STD_SCALER = StandardScaler()\n",
        "# 標準化器を作成\n",
        "STD_SCALER.fit(train_X)\n",
        "print('sclaer fit end')"
      ],
      "execution_count": 6,
      "outputs": [
        {
          "output_type": "stream",
          "text": [
            "sclaer fit end\n"
          ],
          "name": "stdout"
        }
      ]
    },
    {
      "cell_type": "code",
      "metadata": {
        "id": "GN5s79t1gUGZ",
        "colab_type": "code",
        "colab": {
          "base_uri": "https://localhost:8080/",
          "height": 53
        },
        "outputId": "6c34848f-734c-4a48-c651-1f0738c67945"
      },
      "source": [
        "# 訓練データを標準化\n",
        "std_train_X = STD_SCALER.transform(train_X, copy=True)\n",
        "std_train_X[:,0]"
      ],
      "execution_count": 7,
      "outputs": [
        {
          "output_type": "execute_result",
          "data": {
            "text/plain": [
              "array([ 0.31952626, -1.6259504 ,  1.09557117, ..., -0.64605958,\n",
              "       -0.18830037,  1.2529259 ])"
            ]
          },
          "metadata": {
            "tags": []
          },
          "execution_count": 7
        }
      ]
    },
    {
      "cell_type": "code",
      "metadata": {
        "id": "sLEhF0wOgoP0",
        "colab_type": "code",
        "colab": {}
      },
      "source": [
        "# 検証/テストデータも標準化\n",
        "std_validation_X = STD_SCALER.transform(validation_X, copy=True)\n",
        "std_test_X = STD_SCALER.transform(test_X, copy=True)"
      ],
      "execution_count": 8,
      "outputs": []
    },
    {
      "cell_type": "markdown",
      "metadata": {
        "id": "h-iI7keYiYWp",
        "colab_type": "text"
      },
      "source": [
        "# Autoencoder構築"
      ]
    },
    {
      "cell_type": "code",
      "metadata": {
        "id": "3WLGK95hgpOZ",
        "colab_type": "code",
        "colab": {}
      },
      "source": [
        "# 圧縮後の次元サイズ\n",
        "ENCODING_DIM  = 40"
      ],
      "execution_count": 9,
      "outputs": []
    },
    {
      "cell_type": "code",
      "metadata": {
        "id": "-HIU4I6fw4C9",
        "colab_type": "code",
        "colab": {}
      },
      "source": [
        "def autoencoder_fn(input_dim, encoding_dim, hidden_units=None):\n",
        "  '''\n",
        "  オートエンコーダの定義\n",
        "\n",
        "  Parameters\n",
        "  -----\n",
        "  input_dim : int\n",
        "    元の次元数\n",
        "  encoding_dim : int\n",
        "    次元圧縮後の次元数\n",
        "  hidden_units : list of int\n",
        "    エンコーダの中間層のユニット数(default:None)\n",
        "  \n",
        "  Returns\n",
        "  -----\n",
        "  autoencoder : tf.keras.Models\n",
        "  '''\n",
        "  input_data = Input(shape=(input_dim))\n",
        "  \n",
        "  if hidden_units is None:\n",
        "    def _simple_autoencoder(input_dim, encoding_dim):\n",
        "      '''\n",
        "      入力/中間*1/出力層のみのautoencoder\n",
        "      '''\n",
        "      encoded = Dense(encoding_dim, activation='relu')(input_data)\n",
        "      decoded = Dense(input_dim, activation='sigmoid')(encoded)\n",
        "      autoencoder = Model(input_data, decoded)\n",
        "      return autoencoder\n",
        "    return _simple_autoencoder(input_dim, encoding_dim)\n",
        "  \n",
        "  else:\n",
        "    def _deep_autoencoder(input_dim, encoding_dim, hidden_units):\n",
        "      '''\n",
        "      エンコード前の中間層が1つ以上ある場合のautoencoderを構築\n",
        "      '''\n",
        "      def _encoded_fn(input_dim, encoding_dim, hidden_units):\n",
        "        encoded = Dense(hidden_units[0], activation='relu')(input_data)\n",
        "\n",
        "        if len(hidden_units) == 1:\n",
        "          encoded = Dense(encoding_dim, activation='relu')(encoded)\n",
        "          return encoded\n",
        "\n",
        "        for i, unit_size in enumerate(hidden_units[1:]):\n",
        "            encoded = Dense(unit_size, activation='relu')(encoded)\n",
        "        encoded = Dense(encoding_dim, activation='relu')(encoded)\n",
        "        return encoded\n",
        "\n",
        "\n",
        "      def _decoded_fn(encoded, reverse_hidden_units, output_dim):\n",
        "        decoded = Dense(reverse_hidden_units[0], activation='relu')(encoded)\n",
        "        \n",
        "        if len(reverse_hidden_units) == 1:\n",
        "          decoded = Dense(output_dim, activation='sigmoid')(decoded)\n",
        "          return decoded\n",
        "\n",
        "        for i, unit_size in enumerate(reverse_hidden_units[1:]):\n",
        "            decoded = Dense(unit_size, activation='relu')(decoded)\n",
        "        decoded = Dense(output_dim, activation='sigmoid')(decoded)\n",
        "        return decoded\n",
        "      \n",
        "      encoded = _encoded_fn(input_dim, encoding_dim, hidden_units)\n",
        "      decoded = _decoded_fn(encoded, sorted(hidden_units), input_dim)\n",
        "      autoencoder = Model(input_data, decoded)\n",
        "      return autoencoder\n",
        "\n",
        "  return _deep_autoencoder(input_dim, encoding_dim, hidden_units)"
      ],
      "execution_count": 93,
      "outputs": []
    },
    {
      "cell_type": "code",
      "metadata": {
        "id": "HaVFo20B9FjD",
        "colab_type": "code",
        "colab": {
          "base_uri": "https://localhost:8080/",
          "height": 35
        },
        "outputId": "22825c27-26ad-4177-8ad8-68aeb6fcb91b"
      },
      "source": [
        "std_train_X.shape"
      ],
      "execution_count": 11,
      "outputs": [
        {
          "output_type": "execute_result",
          "data": {
            "text/plain": [
              "(371847, 54)"
            ]
          },
          "metadata": {
            "tags": []
          },
          "execution_count": 11
        }
      ]
    },
    {
      "cell_type": "markdown",
      "metadata": {
        "id": "zbSZFriy_zFZ",
        "colab_type": "text"
      },
      "source": [
        "## 中間層1つのAutoencoder"
      ]
    },
    {
      "cell_type": "code",
      "metadata": {
        "id": "vnoS1DEE86hf",
        "colab_type": "code",
        "colab": {
          "base_uri": "https://localhost:8080/",
          "height": 269
        },
        "outputId": "def80e96-8adc-4512-c5f0-cc1a09970194"
      },
      "source": [
        "simple_autoencoder = autoencoder_fn(input_dim=std_train_X.shape[1], encoding_dim=20)\n",
        "simple_autoencoder.summary()"
      ],
      "execution_count": 12,
      "outputs": [
        {
          "output_type": "stream",
          "text": [
            "Model: \"model\"\n",
            "_________________________________________________________________\n",
            "Layer (type)                 Output Shape              Param #   \n",
            "=================================================================\n",
            "input_1 (InputLayer)         [(None, 54)]              0         \n",
            "_________________________________________________________________\n",
            "dense (Dense)                (None, 20)                1100      \n",
            "_________________________________________________________________\n",
            "dense_1 (Dense)              (None, 54)                1134      \n",
            "=================================================================\n",
            "Total params: 2,234\n",
            "Trainable params: 2,234\n",
            "Non-trainable params: 0\n",
            "_________________________________________________________________\n"
          ],
          "name": "stdout"
        }
      ]
    },
    {
      "cell_type": "code",
      "metadata": {
        "id": "fOdGnZbJ9xlD",
        "colab_type": "code",
        "colab": {}
      },
      "source": [
        "simple_autoencoder.compile(optimizer='Adagrad', loss='mean_squared_error')"
      ],
      "execution_count": 13,
      "outputs": []
    },
    {
      "cell_type": "code",
      "metadata": {
        "id": "0P0gQPDb95fB",
        "colab_type": "code",
        "colab": {
          "base_uri": "https://localhost:8080/",
          "height": 107
        },
        "outputId": "7fe6f8f3-7175-4196-c00d-4ddf1ead7523"
      },
      "source": [
        "simple_autoencoder.fit(std_train_X, std_train_X,\n",
        "                epochs=2,\n",
        "                batch_size=256,\n",
        "                shuffle=True,\n",
        "                validation_data=(std_test_X, std_test_X))"
      ],
      "execution_count": 14,
      "outputs": [
        {
          "output_type": "stream",
          "text": [
            "Epoch 1/2\n",
            "1453/1453 [==============================] - 3s 2ms/step - loss: 1.4171 - val_loss: 0.7930\n",
            "Epoch 2/2\n",
            "1453/1453 [==============================] - 2s 2ms/step - loss: 0.4774 - val_loss: 0.2253\n"
          ],
          "name": "stdout"
        },
        {
          "output_type": "execute_result",
          "data": {
            "text/plain": [
              "<tensorflow.python.keras.callbacks.History at 0x7f5e62399080>"
            ]
          },
          "metadata": {
            "tags": []
          },
          "execution_count": 14
        }
      ]
    },
    {
      "cell_type": "code",
      "metadata": {
        "id": "Eznrt_tp_pAa",
        "colab_type": "code",
        "colab": {}
      },
      "source": [
        "def take_encoder(autoencoder, encoder_layer_num):\n",
        "    '''\n",
        "    オートエンコーダモデルからエンコーダを返す\n",
        "\n",
        "    Parameters\n",
        "    -----\n",
        "    autoencoder : tf.keras.Models\n",
        "    encoder_layer_num : int\n",
        "        エンコーダの出力層となるレイヤー数を指定(start:0)\n",
        "\n",
        "    Returns\n",
        "    -----\n",
        "    encoder : tf.keras.Models\n",
        "    '''\n",
        "    encoder_input = autoencoder.input\n",
        "    encoder_output = autoencoder.get_layer(index=encoder_layer_num).output\n",
        "    encoder = Model(inputs=encoder_input, outputs=encoder_output)\n",
        "    return encoder"
      ],
      "execution_count": 21,
      "outputs": []
    },
    {
      "cell_type": "code",
      "metadata": {
        "id": "2Dk3q-8UByYD",
        "colab_type": "code",
        "colab": {
          "base_uri": "https://localhost:8080/",
          "height": 233
        },
        "outputId": "c69a789a-e049-496f-e7d7-d0befa93763b"
      },
      "source": [
        "encoder = take_encoder(simple_autoencoder, 1)\n",
        "encoder.summary()"
      ],
      "execution_count": 22,
      "outputs": [
        {
          "output_type": "stream",
          "text": [
            "Model: \"model_3\"\n",
            "_________________________________________________________________\n",
            "Layer (type)                 Output Shape              Param #   \n",
            "=================================================================\n",
            "input_1 (InputLayer)         [(None, 54)]              0         \n",
            "_________________________________________________________________\n",
            "dense (Dense)                (None, 20)                1100      \n",
            "=================================================================\n",
            "Total params: 1,100\n",
            "Trainable params: 1,100\n",
            "Non-trainable params: 0\n",
            "_________________________________________________________________\n"
          ],
          "name": "stdout"
        }
      ]
    },
    {
      "cell_type": "code",
      "metadata": {
        "id": "G4zTSf4gLiba",
        "colab_type": "code",
        "colab": {
          "base_uri": "https://localhost:8080/",
          "height": 35
        },
        "outputId": "de87274b-0a8d-442f-ec04-8e04e60f00b7"
      },
      "source": [
        "encoder.predict(x=std_test_X).shape"
      ],
      "execution_count": 23,
      "outputs": [
        {
          "output_type": "execute_result",
          "data": {
            "text/plain": [
              "(116203, 20)"
            ]
          },
          "metadata": {
            "tags": []
          },
          "execution_count": 23
        }
      ]
    },
    {
      "cell_type": "markdown",
      "metadata": {
        "id": "88zTw2fXnKlX",
        "colab_type": "text"
      },
      "source": [
        "## DeepなAutoencoder"
      ]
    },
    {
      "cell_type": "code",
      "metadata": {
        "id": "eIaqTHKVIZJn",
        "colab_type": "code",
        "colab": {
          "base_uri": "https://localhost:8080/",
          "height": 35
        },
        "outputId": "0c24c77d-2864-405b-a7c7-297772804582"
      },
      "source": [
        "ENCODING_DIM"
      ],
      "execution_count": 68,
      "outputs": [
        {
          "output_type": "execute_result",
          "data": {
            "text/plain": [
              "40"
            ]
          },
          "metadata": {
            "tags": []
          },
          "execution_count": 68
        }
      ]
    },
    {
      "cell_type": "code",
      "metadata": {
        "id": "TdxD0q9nr9TL",
        "colab_type": "code",
        "colab": {
          "base_uri": "https://localhost:8080/",
          "height": 413
        },
        "outputId": "f7f27ac5-41d3-4a6f-acbe-98c290233aea"
      },
      "source": [
        "hidden_units = [50, 48]\n",
        "\n",
        "deep_autoencoder = autoencoder_fn(input_dim=std_train_X.shape[1], encoding_dim=ENCODING_DIM, hidden_units=hidden_units)\n",
        "deep_autoencoder.summary()"
      ],
      "execution_count": 94,
      "outputs": [
        {
          "output_type": "stream",
          "text": [
            "Model: \"model_23\"\n",
            "_________________________________________________________________\n",
            "Layer (type)                 Output Shape              Param #   \n",
            "=================================================================\n",
            "input_28 (InputLayer)        [(None, 54)]              0         \n",
            "_________________________________________________________________\n",
            "dense_73 (Dense)             (None, 50)                2750      \n",
            "_________________________________________________________________\n",
            "dense_74 (Dense)             (None, 48)                2448      \n",
            "_________________________________________________________________\n",
            "dense_75 (Dense)             (None, 40)                1960      \n",
            "_________________________________________________________________\n",
            "dense_76 (Dense)             (None, 48)                1968      \n",
            "_________________________________________________________________\n",
            "dense_77 (Dense)             (None, 50)                2450      \n",
            "_________________________________________________________________\n",
            "dense_78 (Dense)             (None, 54)                2754      \n",
            "=================================================================\n",
            "Total params: 14,330\n",
            "Trainable params: 14,330\n",
            "Non-trainable params: 0\n",
            "_________________________________________________________________\n"
          ],
          "name": "stdout"
        }
      ]
    },
    {
      "cell_type": "code",
      "metadata": {
        "id": "WdnHywNlNUCY",
        "colab_type": "code",
        "colab": {}
      },
      "source": [
        "deep_autoencoder.compile(optimizer='Adagrad', loss='mean_squared_error')"
      ],
      "execution_count": 100,
      "outputs": []
    },
    {
      "cell_type": "code",
      "metadata": {
        "id": "DBtleF-zsQ6A",
        "colab_type": "code",
        "colab": {
          "base_uri": "https://localhost:8080/",
          "height": 107
        },
        "outputId": "080bc201-2339-4727-f50d-1f4958eb3d84"
      },
      "source": [
        "deep_autoencoder.fit(std_train_X, std_train_X,\n",
        "                epochs=2,\n",
        "                batch_size=256,\n",
        "                shuffle=True,\n",
        "                validation_data=(std_test_X, std_test_X))"
      ],
      "execution_count": 101,
      "outputs": [
        {
          "output_type": "stream",
          "text": [
            "Epoch 1/2\n",
            "1453/1453 [==============================] - 3s 2ms/step - loss: 1.0331 - val_loss: 0.9322\n",
            "Epoch 2/2\n",
            "1453/1453 [==============================] - 3s 2ms/step - loss: 0.8791 - val_loss: 0.8682\n"
          ],
          "name": "stdout"
        },
        {
          "output_type": "execute_result",
          "data": {
            "text/plain": [
              "<tensorflow.python.keras.callbacks.History at 0x7f5e6822fe48>"
            ]
          },
          "metadata": {
            "tags": []
          },
          "execution_count": 101
        }
      ]
    },
    {
      "cell_type": "code",
      "metadata": {
        "id": "jqg6YNMtNjHD",
        "colab_type": "code",
        "colab": {
          "base_uri": "https://localhost:8080/",
          "height": 269
        },
        "outputId": "a58ea480-8952-41c0-d605-b81fc6ddac2a"
      },
      "source": [
        "encoder = take_encoder(deep_autoencoder, len(hidden_units))\n",
        "encoder.summary()"
      ],
      "execution_count": 104,
      "outputs": [
        {
          "output_type": "stream",
          "text": [
            "Model: \"model_26\"\n",
            "_________________________________________________________________\n",
            "Layer (type)                 Output Shape              Param #   \n",
            "=================================================================\n",
            "input_28 (InputLayer)        [(None, 54)]              0         \n",
            "_________________________________________________________________\n",
            "dense_73 (Dense)             (None, 50)                2750      \n",
            "_________________________________________________________________\n",
            "dense_74 (Dense)             (None, 48)                2448      \n",
            "=================================================================\n",
            "Total params: 5,198\n",
            "Trainable params: 5,198\n",
            "Non-trainable params: 0\n",
            "_________________________________________________________________\n"
          ],
          "name": "stdout"
        }
      ]
    },
    {
      "cell_type": "code",
      "metadata": {
        "id": "BEIt4h5AN-qp",
        "colab_type": "code",
        "colab": {
          "base_uri": "https://localhost:8080/",
          "height": 35
        },
        "outputId": "59efc3d4-92e6-4529-caf1-81354b431626"
      },
      "source": [
        "encoder.predict(std_test_X).shape"
      ],
      "execution_count": 105,
      "outputs": [
        {
          "output_type": "execute_result",
          "data": {
            "text/plain": [
              "(116203, 48)"
            ]
          },
          "metadata": {
            "tags": []
          },
          "execution_count": 105
        }
      ]
    },
    {
      "cell_type": "code",
      "metadata": {
        "id": "_S7KEnTdOJuG",
        "colab_type": "code",
        "colab": {}
      },
      "source": [
        ""
      ],
      "execution_count": null,
      "outputs": []
    }
  ]
}