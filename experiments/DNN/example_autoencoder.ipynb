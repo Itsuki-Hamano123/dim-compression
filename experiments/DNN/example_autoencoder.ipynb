{
  "nbformat": 4,
  "nbformat_minor": 0,
  "metadata": {
    "colab": {
      "name": "example_autoencoder.ipynb",
      "provenance": [],
      "collapsed_sections": [],
      "toc_visible": true,
      "authorship_tag": "ABX9TyMimb9MalJ9fnX+5Myp7m9O",
      "include_colab_link": true
    },
    "kernelspec": {
      "name": "python3",
      "display_name": "Python 3"
    }
  },
  "cells": [
    {
      "cell_type": "markdown",
      "metadata": {
        "id": "view-in-github",
        "colab_type": "text"
      },
      "source": [
        "<a href=\"https://colab.research.google.com/github/Itsuki-Hamano123/dim-compression/blob/master/experiments/DNN/example_autoencoder.ipynb\" target=\"_parent\"><img src=\"https://colab.research.google.com/assets/colab-badge.svg\" alt=\"Open In Colab\"/></a>"
      ]
    },
    {
      "cell_type": "markdown",
      "metadata": {
        "id": "EGia4kD5Ye7p",
        "colab_type": "text"
      },
      "source": [
        "# autoencoderを実装してみる"
      ]
    },
    {
      "cell_type": "code",
      "metadata": {
        "id": "Sn8NG08PQeE3",
        "colab_type": "code",
        "colab": {}
      },
      "source": [
        "import os\n",
        "import datetime\n",
        "\n",
        "import pandas as pd\n",
        "\n",
        "from sklearn.datasets import fetch_covtype\n",
        "from sklearn.model_selection import train_test_split\n",
        "from sklearn.preprocessing import StandardScaler \n",
        "from sklearn.metrics import classification_report, confusion_matrix\n",
        "import tensorflow as tf\n",
        "from tensorflow.keras.utils import to_categorical\n",
        "from tensorflow.keras.layers import Input, Dense\n",
        "from tensorflow.keras.models import Model\n",
        "from tensorflow.keras.callbacks import EarlyStopping"
      ],
      "execution_count": 106,
      "outputs": []
    },
    {
      "cell_type": "code",
      "metadata": {
        "id": "skuEjdhJZEY-",
        "colab_type": "code",
        "colab": {
          "base_uri": "https://localhost:8080/",
          "height": 235
        },
        "outputId": "7065a421-b121-4f60-de57-4b7edef9696b"
      },
      "source": [
        "print('{lib}:{ver}'.format(lib='tf',ver=tf.__version__))\n",
        "!pip show scikit-learn"
      ],
      "execution_count": 107,
      "outputs": [
        {
          "output_type": "stream",
          "text": [
            "tf:2.2.0\n",
            "Name: scikit-learn\n",
            "Version: 0.22.2.post1\n",
            "Summary: A set of python modules for machine learning and data mining\n",
            "Home-page: http://scikit-learn.org\n",
            "Author: None\n",
            "Author-email: None\n",
            "License: new BSD\n",
            "Location: /usr/local/lib/python3.6/dist-packages\n",
            "Requires: scipy, joblib, numpy\n",
            "Required-by: yellowbrick, umap-learn, textgenrnn, sklearn, sklearn-pandas, mlxtend, lucid, lightgbm, librosa, imbalanced-learn, fancyimpute\n"
          ],
          "name": "stdout"
        }
      ]
    },
    {
      "cell_type": "markdown",
      "metadata": {
        "id": "O_0NUB0baOJN",
        "colab_type": "text"
      },
      "source": [
        "# covtypeデータ読み込み\n",
        "特徴量54次元で7クラス分類を行うデータ<br>\n",
        "[scikit-learnのリファレンス](https://scikit-learn.org/stable/modules/generated/sklearn.datasets.fetch_covtype.html#sklearn.datasets.fetch_covtype)<br>\n",
        "[データセットの詳細ページ](https://archive.ics.uci.edu/ml/datasets/Covertype)\n"
      ]
    },
    {
      "cell_type": "code",
      "metadata": {
        "id": "BPgBv1ECZ-E3",
        "colab_type": "code",
        "colab": {
          "base_uri": "https://localhost:8080/",
          "height": 343
        },
        "outputId": "7c63ec71-db30-49cf-c6e5-464ac2cbcc88"
      },
      "source": [
        "SEED = 2\n",
        "\n",
        "data_bunch = fetch_covtype(random_state=SEED,\n",
        "                           shuffle=True,\n",
        "                           return_X_y=False)\n",
        "\n",
        "print('data shape:{shape}'.format(shape=data_bunch.data.shape))\n",
        "print('target shape:{shape}'.format(shape=data_bunch.target.shape))\n",
        "data_bunch"
      ],
      "execution_count": 108,
      "outputs": [
        {
          "output_type": "stream",
          "text": [
            "data shape:(581012, 54)\n",
            "target shape:(581012,)\n"
          ],
          "name": "stdout"
        },
        {
          "output_type": "execute_result",
          "data": {
            "text/plain": [
              "{'DESCR': \".. _covtype_dataset:\\n\\nForest covertypes\\n-----------------\\n\\nThe samples in this dataset correspond to 30×30m patches of forest in the US,\\ncollected for the task of predicting each patch's cover type,\\ni.e. the dominant species of tree.\\nThere are seven covertypes, making this a multiclass classification problem.\\nEach sample has 54 features, described on the\\n`dataset's homepage <https://archive.ics.uci.edu/ml/datasets/Covertype>`__.\\nSome of the features are boolean indicators,\\nwhile others are discrete or continuous measurements.\\n\\n**Data Set Characteristics:**\\n\\n    =================   ============\\n    Classes                        7\\n    Samples total             581012\\n    Dimensionality                54\\n    Features                     int\\n    =================   ============\\n\\n:func:`sklearn.datasets.fetch_covtype` will load the covertype dataset;\\nit returns a dictionary-like object\\nwith the feature matrix in the ``data`` member\\nand the target values in ``target``.\\nThe dataset will be downloaded from the web if necessary.\\n\",\n",
              " 'data': array([[3.221e+03, 3.900e+01, 1.600e+01, ..., 0.000e+00, 0.000e+00,\n",
              "         0.000e+00],\n",
              "        [3.348e+03, 9.700e+01, 1.200e+01, ..., 1.000e+00, 0.000e+00,\n",
              "         0.000e+00],\n",
              "        [3.114e+03, 1.770e+02, 2.000e+01, ..., 0.000e+00, 0.000e+00,\n",
              "         0.000e+00],\n",
              "        ...,\n",
              "        [2.960e+03, 1.200e+02, 2.600e+01, ..., 0.000e+00, 0.000e+00,\n",
              "         0.000e+00],\n",
              "        [3.247e+03, 4.600e+01, 1.900e+01, ..., 1.000e+00, 0.000e+00,\n",
              "         0.000e+00],\n",
              "        [2.975e+03, 9.900e+01, 8.000e+00, ..., 0.000e+00, 0.000e+00,\n",
              "         0.000e+00]]),\n",
              " 'target': array([1, 1, 2, ..., 2, 2, 2], dtype=int32)}"
            ]
          },
          "metadata": {
            "tags": []
          },
          "execution_count": 108
        }
      ]
    },
    {
      "cell_type": "code",
      "metadata": {
        "id": "YkvZ3OfDa3aD",
        "colab_type": "code",
        "colab": {
          "base_uri": "https://localhost:8080/",
          "height": 71
        },
        "outputId": "f4488b9f-ebff-4288-d54f-1adaa91d4a05"
      },
      "source": [
        "# 訓練データ,テストデータに分割\n",
        "train_X, test_X, train_y, test_y = train_test_split(data_bunch.data, data_bunch.target,\n",
        "                                                    test_size=0.2, random_state=SEED)\n",
        "# 訓練データ,検証データに分割\n",
        "train_X, validation_X, train_y, validation_y = train_test_split(train_X, train_y,\n",
        "                                                                test_size=0.2, random_state=SEED)\n",
        "\n",
        "print('train size:{size}'.format(size=train_y.shape[0]))\n",
        "print('validation size:{size}'.format(size=validation_y.shape[0]))\n",
        "print('test size:{size}'.format(size=test_y.shape[0]))"
      ],
      "execution_count": 109,
      "outputs": [
        {
          "output_type": "stream",
          "text": [
            "train size:371847\n",
            "validation size:92962\n",
            "test size:116203\n"
          ],
          "name": "stdout"
        }
      ]
    },
    {
      "cell_type": "code",
      "metadata": {
        "id": "KEyJnTgK50lX",
        "colab_type": "code",
        "colab": {}
      },
      "source": [
        "NUM_CLASS = 7\n",
        "\n",
        "# 予測ラベルをone-hotエンコード\n",
        "categorical_train_y = to_categorical(train_y-1, num_classes=NUM_CLASS)\n",
        "categorical_validation_y = to_categorical(validation_y-1, num_classes=NUM_CLASS)\n",
        "categorical_test_y = to_categorical(test_y-1, num_classes=NUM_CLASS)"
      ],
      "execution_count": 110,
      "outputs": []
    },
    {
      "cell_type": "markdown",
      "metadata": {
        "id": "5iNfcuX-ffaf",
        "colab_type": "text"
      },
      "source": [
        "# データの前処理"
      ]
    },
    {
      "cell_type": "markdown",
      "metadata": {
        "id": "pnMV2Jpvfi9c",
        "colab_type": "text"
      },
      "source": [
        "## 標準化"
      ]
    },
    {
      "cell_type": "code",
      "metadata": {
        "id": "NWWymQMXcWnW",
        "colab_type": "code",
        "colab": {
          "base_uri": "https://localhost:8080/",
          "height": 35
        },
        "outputId": "17f2c061-df81-4552-de5a-21ef80b34fb2"
      },
      "source": [
        "STD_SCALER = StandardScaler()\n",
        "# 標準化器を作成\n",
        "STD_SCALER.fit(train_X)\n",
        "print('sclaer fit end')"
      ],
      "execution_count": 111,
      "outputs": [
        {
          "output_type": "stream",
          "text": [
            "sclaer fit end\n"
          ],
          "name": "stdout"
        }
      ]
    },
    {
      "cell_type": "code",
      "metadata": {
        "id": "GN5s79t1gUGZ",
        "colab_type": "code",
        "colab": {
          "base_uri": "https://localhost:8080/",
          "height": 53
        },
        "outputId": "59072ddc-5188-4a9a-ab5c-f8a6986f2073"
      },
      "source": [
        "# 訓練データを標準化\n",
        "std_train_X = STD_SCALER.transform(train_X, copy=True)\n",
        "std_train_X[:,0]"
      ],
      "execution_count": 112,
      "outputs": [
        {
          "output_type": "execute_result",
          "data": {
            "text/plain": [
              "array([ 0.31952626, -1.6259504 ,  1.09557117, ..., -0.64605958,\n",
              "       -0.18830037,  1.2529259 ])"
            ]
          },
          "metadata": {
            "tags": []
          },
          "execution_count": 112
        }
      ]
    },
    {
      "cell_type": "code",
      "metadata": {
        "id": "sLEhF0wOgoP0",
        "colab_type": "code",
        "colab": {}
      },
      "source": [
        "# 検証/テストデータも標準化\n",
        "std_validation_X = STD_SCALER.transform(validation_X, copy=True)\n",
        "std_test_X = STD_SCALER.transform(test_X, copy=True)"
      ],
      "execution_count": 113,
      "outputs": []
    },
    {
      "cell_type": "markdown",
      "metadata": {
        "id": "h-iI7keYiYWp",
        "colab_type": "text"
      },
      "source": [
        "# Autoencoder構築"
      ]
    },
    {
      "cell_type": "code",
      "metadata": {
        "id": "3WLGK95hgpOZ",
        "colab_type": "code",
        "colab": {}
      },
      "source": [
        "# 圧縮後の次元サイズ\n",
        "ENCODING_DIM  = 40"
      ],
      "execution_count": 114,
      "outputs": []
    },
    {
      "cell_type": "code",
      "metadata": {
        "id": "-HIU4I6fw4C9",
        "colab_type": "code",
        "colab": {}
      },
      "source": [
        "def autoencoder_fn(input_dim, encoding_dim, hidden_units=None):\n",
        "  '''\n",
        "  オートエンコーダの定義\n",
        "\n",
        "  Parameters\n",
        "  -----\n",
        "  input_dim : int\n",
        "    元の次元数\n",
        "  encoding_dim : int\n",
        "    次元圧縮後の次元数\n",
        "  hidden_units : list of int\n",
        "    エンコーダの中間層のユニット数(default:None)\n",
        "  \n",
        "  Returns\n",
        "  -----\n",
        "  autoencoder : tf.keras.Models\n",
        "  '''\n",
        "  input_data = Input(shape=(input_dim))\n",
        "  \n",
        "  if hidden_units is None:\n",
        "    def _simple_autoencoder(input_dim, encoding_dim):\n",
        "      '''\n",
        "      入力/中間*1/出力層のみのautoencoder\n",
        "      '''\n",
        "      encoded = Dense(encoding_dim, activation='relu')(input_data)\n",
        "      decoded = Dense(input_dim, activation='sigmoid')(encoded)\n",
        "      autoencoder = Model(input_data, decoded)\n",
        "      return autoencoder\n",
        "    return _simple_autoencoder(input_dim, encoding_dim)\n",
        "  \n",
        "  else:\n",
        "    def _deep_autoencoder(input_dim, encoding_dim, hidden_units):\n",
        "      '''\n",
        "      エンコード前の中間層が1つ以上ある場合のautoencoderを構築\n",
        "      '''\n",
        "      def _encoded_fn(input_dim, encoding_dim, hidden_units):\n",
        "        encoded = Dense(hidden_units[0], activation='relu')(input_data)\n",
        "\n",
        "        if len(hidden_units) == 1:\n",
        "          encoded = Dense(encoding_dim, activation='relu')(encoded)\n",
        "          return encoded\n",
        "\n",
        "        for i, unit_size in enumerate(hidden_units[1:]):\n",
        "            encoded = Dense(unit_size, activation='relu')(encoded)\n",
        "        encoded = Dense(encoding_dim, activation='relu')(encoded)\n",
        "        return encoded\n",
        "\n",
        "\n",
        "      def _decoded_fn(encoded, reverse_hidden_units, output_dim):\n",
        "        decoded = Dense(reverse_hidden_units[0], activation='relu')(encoded)\n",
        "        \n",
        "        if len(reverse_hidden_units) == 1:\n",
        "          decoded = Dense(output_dim, activation='sigmoid')(decoded)\n",
        "          return decoded\n",
        "\n",
        "        for i, unit_size in enumerate(reverse_hidden_units[1:]):\n",
        "            decoded = Dense(unit_size, activation='relu')(decoded)\n",
        "        decoded = Dense(output_dim, activation='sigmoid')(decoded)\n",
        "        return decoded\n",
        "      \n",
        "      encoded = _encoded_fn(input_dim, encoding_dim, hidden_units)\n",
        "      decoded = _decoded_fn(encoded, sorted(hidden_units), input_dim)\n",
        "      autoencoder = Model(input_data, decoded)\n",
        "      return autoencoder\n",
        "\n",
        "  return _deep_autoencoder(input_dim, encoding_dim, hidden_units)"
      ],
      "execution_count": 115,
      "outputs": []
    },
    {
      "cell_type": "code",
      "metadata": {
        "id": "HaVFo20B9FjD",
        "colab_type": "code",
        "colab": {
          "base_uri": "https://localhost:8080/",
          "height": 35
        },
        "outputId": "35114ac0-0535-4d63-d2c4-371686e02a5b"
      },
      "source": [
        "std_train_X.shape"
      ],
      "execution_count": 116,
      "outputs": [
        {
          "output_type": "execute_result",
          "data": {
            "text/plain": [
              "(371847, 54)"
            ]
          },
          "metadata": {
            "tags": []
          },
          "execution_count": 116
        }
      ]
    },
    {
      "cell_type": "markdown",
      "metadata": {
        "id": "zbSZFriy_zFZ",
        "colab_type": "text"
      },
      "source": [
        "## 中間層1つのAutoencoder"
      ]
    },
    {
      "cell_type": "code",
      "metadata": {
        "id": "vnoS1DEE86hf",
        "colab_type": "code",
        "colab": {
          "base_uri": "https://localhost:8080/",
          "height": 269
        },
        "outputId": "9244ff5d-de12-4865-ec0d-65aa0232d526"
      },
      "source": [
        "simple_autoencoder = autoencoder_fn(input_dim=std_train_X.shape[1], encoding_dim=ENCODING_DIM)\n",
        "simple_autoencoder.summary()"
      ],
      "execution_count": 117,
      "outputs": [
        {
          "output_type": "stream",
          "text": [
            "Model: \"model_27\"\n",
            "_________________________________________________________________\n",
            "Layer (type)                 Output Shape              Param #   \n",
            "=================================================================\n",
            "input_29 (InputLayer)        [(None, 54)]              0         \n",
            "_________________________________________________________________\n",
            "dense_79 (Dense)             (None, 40)                2200      \n",
            "_________________________________________________________________\n",
            "dense_80 (Dense)             (None, 54)                2214      \n",
            "=================================================================\n",
            "Total params: 4,414\n",
            "Trainable params: 4,414\n",
            "Non-trainable params: 0\n",
            "_________________________________________________________________\n"
          ],
          "name": "stdout"
        }
      ]
    },
    {
      "cell_type": "code",
      "metadata": {
        "id": "fOdGnZbJ9xlD",
        "colab_type": "code",
        "colab": {}
      },
      "source": [
        "simple_autoencoder.compile(optimizer='Adagrad', loss='mean_squared_error')"
      ],
      "execution_count": 118,
      "outputs": []
    },
    {
      "cell_type": "code",
      "metadata": {
        "id": "0P0gQPDb95fB",
        "colab_type": "code",
        "colab": {
          "base_uri": "https://localhost:8080/",
          "height": 107
        },
        "outputId": "6e7881ee-2621-4bfc-f8b2-98d4323ff807"
      },
      "source": [
        "simple_autoencoder.fit(std_train_X, std_train_X,\n",
        "                epochs=2,\n",
        "                batch_size=256,\n",
        "                shuffle=True,\n",
        "                validation_data=(std_test_X, std_test_X))"
      ],
      "execution_count": 119,
      "outputs": [
        {
          "output_type": "stream",
          "text": [
            "Epoch 1/2\n",
            "1453/1453 [==============================] - 2s 2ms/step - loss: 1.0879 - val_loss: 1.0163\n",
            "Epoch 2/2\n",
            "1453/1453 [==============================] - 2s 2ms/step - loss: 0.9577 - val_loss: 0.9385\n"
          ],
          "name": "stdout"
        },
        {
          "output_type": "execute_result",
          "data": {
            "text/plain": [
              "<tensorflow.python.keras.callbacks.History at 0x7f5e6ee5bac8>"
            ]
          },
          "metadata": {
            "tags": []
          },
          "execution_count": 119
        }
      ]
    },
    {
      "cell_type": "code",
      "metadata": {
        "id": "Eznrt_tp_pAa",
        "colab_type": "code",
        "colab": {}
      },
      "source": [
        "def take_encoder(autoencoder, encoder_layer_num):\n",
        "    '''\n",
        "    オートエンコーダモデルからエンコーダを返す\n",
        "\n",
        "    Parameters\n",
        "    -----\n",
        "    autoencoder : tf.keras.Models\n",
        "    encoder_layer_num : int\n",
        "        エンコーダの出力層となるレイヤー数を指定(start:0)\n",
        "\n",
        "    Returns\n",
        "    -----\n",
        "    encoder : tf.keras.Models\n",
        "    '''\n",
        "    encoder_input = autoencoder.input\n",
        "    encoder_output = autoencoder.get_layer(index=encoder_layer_num).output\n",
        "    encoder = Model(inputs=encoder_input, outputs=encoder_output)\n",
        "    return encoder"
      ],
      "execution_count": 120,
      "outputs": []
    },
    {
      "cell_type": "code",
      "metadata": {
        "id": "2Dk3q-8UByYD",
        "colab_type": "code",
        "colab": {
          "base_uri": "https://localhost:8080/",
          "height": 233
        },
        "outputId": "8f02fcea-5c1f-4064-8977-b1580c8ec0cc"
      },
      "source": [
        "encoder = take_encoder(simple_autoencoder, 1)\n",
        "encoder.summary()"
      ],
      "execution_count": 121,
      "outputs": [
        {
          "output_type": "stream",
          "text": [
            "Model: \"model_28\"\n",
            "_________________________________________________________________\n",
            "Layer (type)                 Output Shape              Param #   \n",
            "=================================================================\n",
            "input_29 (InputLayer)        [(None, 54)]              0         \n",
            "_________________________________________________________________\n",
            "dense_79 (Dense)             (None, 40)                2200      \n",
            "=================================================================\n",
            "Total params: 2,200\n",
            "Trainable params: 2,200\n",
            "Non-trainable params: 0\n",
            "_________________________________________________________________\n"
          ],
          "name": "stdout"
        }
      ]
    },
    {
      "cell_type": "code",
      "metadata": {
        "id": "G4zTSf4gLiba",
        "colab_type": "code",
        "colab": {
          "base_uri": "https://localhost:8080/",
          "height": 35
        },
        "outputId": "c3066a88-28e8-410f-dd9e-ffba2633e968"
      },
      "source": [
        "encoder.predict(x=std_test_X).shape"
      ],
      "execution_count": 122,
      "outputs": [
        {
          "output_type": "execute_result",
          "data": {
            "text/plain": [
              "(116203, 40)"
            ]
          },
          "metadata": {
            "tags": []
          },
          "execution_count": 122
        }
      ]
    },
    {
      "cell_type": "markdown",
      "metadata": {
        "id": "88zTw2fXnKlX",
        "colab_type": "text"
      },
      "source": [
        "## DeepなAutoencoder"
      ]
    },
    {
      "cell_type": "code",
      "metadata": {
        "id": "eIaqTHKVIZJn",
        "colab_type": "code",
        "colab": {
          "base_uri": "https://localhost:8080/",
          "height": 35
        },
        "outputId": "f7509462-6f29-4ad3-800a-3df1985a5bf5"
      },
      "source": [
        "ENCODING_DIM"
      ],
      "execution_count": 123,
      "outputs": [
        {
          "output_type": "execute_result",
          "data": {
            "text/plain": [
              "40"
            ]
          },
          "metadata": {
            "tags": []
          },
          "execution_count": 123
        }
      ]
    },
    {
      "cell_type": "code",
      "metadata": {
        "id": "TdxD0q9nr9TL",
        "colab_type": "code",
        "colab": {
          "base_uri": "https://localhost:8080/",
          "height": 413
        },
        "outputId": "041f68b9-5ee9-4bb1-c9b3-3afc4c4b0b83"
      },
      "source": [
        "hidden_units = [50, 48]\n",
        "\n",
        "deep_autoencoder = autoencoder_fn(input_dim=std_train_X.shape[1], encoding_dim=ENCODING_DIM, hidden_units=hidden_units)\n",
        "deep_autoencoder.summary()"
      ],
      "execution_count": 124,
      "outputs": [
        {
          "output_type": "stream",
          "text": [
            "Model: \"model_29\"\n",
            "_________________________________________________________________\n",
            "Layer (type)                 Output Shape              Param #   \n",
            "=================================================================\n",
            "input_30 (InputLayer)        [(None, 54)]              0         \n",
            "_________________________________________________________________\n",
            "dense_81 (Dense)             (None, 50)                2750      \n",
            "_________________________________________________________________\n",
            "dense_82 (Dense)             (None, 48)                2448      \n",
            "_________________________________________________________________\n",
            "dense_83 (Dense)             (None, 40)                1960      \n",
            "_________________________________________________________________\n",
            "dense_84 (Dense)             (None, 48)                1968      \n",
            "_________________________________________________________________\n",
            "dense_85 (Dense)             (None, 50)                2450      \n",
            "_________________________________________________________________\n",
            "dense_86 (Dense)             (None, 54)                2754      \n",
            "=================================================================\n",
            "Total params: 14,330\n",
            "Trainable params: 14,330\n",
            "Non-trainable params: 0\n",
            "_________________________________________________________________\n"
          ],
          "name": "stdout"
        }
      ]
    },
    {
      "cell_type": "code",
      "metadata": {
        "id": "WdnHywNlNUCY",
        "colab_type": "code",
        "colab": {}
      },
      "source": [
        "deep_autoencoder.compile(optimizer='Adagrad', loss='mean_squared_error')"
      ],
      "execution_count": 125,
      "outputs": []
    },
    {
      "cell_type": "code",
      "metadata": {
        "id": "DBtleF-zsQ6A",
        "colab_type": "code",
        "colab": {
          "base_uri": "https://localhost:8080/",
          "height": 107
        },
        "outputId": "65e929a3-0700-44b8-bcd9-78f9f2a3faa6"
      },
      "source": [
        "deep_autoencoder.fit(std_train_X, std_train_X,\n",
        "                epochs=2,\n",
        "                batch_size=256,\n",
        "                shuffle=True,\n",
        "                validation_data=(std_test_X, std_test_X))"
      ],
      "execution_count": 126,
      "outputs": [
        {
          "output_type": "stream",
          "text": [
            "Epoch 1/2\n",
            "1453/1453 [==============================] - 3s 2ms/step - loss: 0.9759 - val_loss: 0.9179\n",
            "Epoch 2/2\n",
            "1453/1453 [==============================] - 5s 4ms/step - loss: 0.8760 - val_loss: 0.8746\n"
          ],
          "name": "stdout"
        },
        {
          "output_type": "execute_result",
          "data": {
            "text/plain": [
              "<tensorflow.python.keras.callbacks.History at 0x7f5e930929b0>"
            ]
          },
          "metadata": {
            "tags": []
          },
          "execution_count": 126
        }
      ]
    },
    {
      "cell_type": "code",
      "metadata": {
        "id": "jqg6YNMtNjHD",
        "colab_type": "code",
        "colab": {
          "base_uri": "https://localhost:8080/",
          "height": 305
        },
        "outputId": "292a802a-3345-4b29-dd57-c677966d9a2f"
      },
      "source": [
        "encoder_layer_num = len(hidden_units) + 1\n",
        "encoder = take_encoder(deep_autoencoder, encoder_layer_num)\n",
        "encoder.summary()"
      ],
      "execution_count": 127,
      "outputs": [
        {
          "output_type": "stream",
          "text": [
            "Model: \"model_30\"\n",
            "_________________________________________________________________\n",
            "Layer (type)                 Output Shape              Param #   \n",
            "=================================================================\n",
            "input_30 (InputLayer)        [(None, 54)]              0         \n",
            "_________________________________________________________________\n",
            "dense_81 (Dense)             (None, 50)                2750      \n",
            "_________________________________________________________________\n",
            "dense_82 (Dense)             (None, 48)                2448      \n",
            "_________________________________________________________________\n",
            "dense_83 (Dense)             (None, 40)                1960      \n",
            "=================================================================\n",
            "Total params: 7,158\n",
            "Trainable params: 7,158\n",
            "Non-trainable params: 0\n",
            "_________________________________________________________________\n"
          ],
          "name": "stdout"
        }
      ]
    },
    {
      "cell_type": "code",
      "metadata": {
        "id": "BEIt4h5AN-qp",
        "colab_type": "code",
        "colab": {
          "base_uri": "https://localhost:8080/",
          "height": 35
        },
        "outputId": "e67ade86-3f4c-440a-ca9b-f0360f30a85e"
      },
      "source": [
        "encoder.predict(std_test_X).shape"
      ],
      "execution_count": 128,
      "outputs": [
        {
          "output_type": "execute_result",
          "data": {
            "text/plain": [
              "(116203, 40)"
            ]
          },
          "metadata": {
            "tags": []
          },
          "execution_count": 128
        }
      ]
    },
    {
      "cell_type": "code",
      "metadata": {
        "id": "_S7KEnTdOJuG",
        "colab_type": "code",
        "colab": {}
      },
      "source": [
        ""
      ],
      "execution_count": 128,
      "outputs": []
    }
  ]
}