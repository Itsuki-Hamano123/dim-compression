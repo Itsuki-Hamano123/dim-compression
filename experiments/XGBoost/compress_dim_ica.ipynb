{
  "nbformat": 4,
  "nbformat_minor": 0,
  "metadata": {
    "colab": {
      "name": "compress_dim_ica.ipynb",
      "provenance": [],
      "collapsed_sections": [],
      "toc_visible": true,
      "authorship_tag": "ABX9TyO2ckjX4CXD+ebeMin14dPC",
      "include_colab_link": true
    },
    "kernelspec": {
      "name": "python3",
      "display_name": "Python 3"
    },
    "accelerator": "GPU"
  },
  "cells": [
    {
      "cell_type": "markdown",
      "metadata": {
        "id": "view-in-github",
        "colab_type": "text"
      },
      "source": [
        "<a href=\"https://colab.research.google.com/github/Itsuki-Hamano123/dim-compression/blob/master/experiments/XGBoost/compress_dim_ica.ipynb\" target=\"_parent\"><img src=\"https://colab.research.google.com/assets/colab-badge.svg\" alt=\"Open In Colab\"/></a>"
      ]
    },
    {
      "cell_type": "markdown",
      "metadata": {
        "id": "EGia4kD5Ye7p",
        "colab_type": "text"
      },
      "source": [
        "# ICA(独立成分分析)で次元圧縮"
      ]
    },
    {
      "cell_type": "code",
      "metadata": {
        "id": "Sn8NG08PQeE3",
        "colab_type": "code",
        "colab": {}
      },
      "source": [
        "import os\n",
        "import datetime\n",
        "\n",
        "import cloudpickle\n",
        "import pandas as pd\n",
        "\n",
        "from sklearn.datasets import fetch_covtype\n",
        "from sklearn.model_selection import train_test_split\n",
        "from sklearn.preprocessing import StandardScaler \n",
        "from sklearn.decomposition import FastICA\n",
        "from sklearn.metrics import classification_report, confusion_matrix\n",
        "import xgboost as xgb"
      ],
      "execution_count": 1,
      "outputs": []
    },
    {
      "cell_type": "code",
      "metadata": {
        "id": "skuEjdhJZEY-",
        "colab_type": "code",
        "colab": {
          "base_uri": "https://localhost:8080/",
          "height": 235
        },
        "outputId": "9868b375-fd89-492a-f855-8ab040aa620f"
      },
      "source": [
        "print('{lib}:{ver}'.format(lib='xgboost',ver=xgb.__version__))\n",
        "!pip show scikit-learn"
      ],
      "execution_count": 2,
      "outputs": [
        {
          "output_type": "stream",
          "text": [
            "xgboost:0.90\n",
            "Name: scikit-learn\n",
            "Version: 0.22.2.post1\n",
            "Summary: A set of python modules for machine learning and data mining\n",
            "Home-page: http://scikit-learn.org\n",
            "Author: None\n",
            "Author-email: None\n",
            "License: new BSD\n",
            "Location: /usr/local/lib/python3.6/dist-packages\n",
            "Requires: joblib, numpy, scipy\n",
            "Required-by: yellowbrick, umap-learn, textgenrnn, sklearn, sklearn-pandas, mlxtend, lucid, lightgbm, librosa, imbalanced-learn, fancyimpute\n"
          ],
          "name": "stdout"
        }
      ]
    },
    {
      "cell_type": "markdown",
      "metadata": {
        "id": "O_0NUB0baOJN",
        "colab_type": "text"
      },
      "source": [
        "# covtypeデータ読み込み\n",
        "特徴量54次元で7クラス分類を行うデータ<br>\n",
        "[scikit-learnのリファレンス](https://scikit-learn.org/stable/modules/generated/sklearn.datasets.fetch_covtype.html#sklearn.datasets.fetch_covtype)<br>\n",
        "[データセットの詳細ページ](https://archive.ics.uci.edu/ml/datasets/Covertype)\n"
      ]
    },
    {
      "cell_type": "code",
      "metadata": {
        "id": "BPgBv1ECZ-E3",
        "colab_type": "code",
        "colab": {
          "base_uri": "https://localhost:8080/",
          "height": 361
        },
        "outputId": "9d5f5814-4a69-46f0-b9be-752fc4f6aabb"
      },
      "source": [
        "SEED = 2\n",
        "\n",
        "data_bunch = fetch_covtype(random_state=SEED,\n",
        "                           shuffle=True,\n",
        "                           return_X_y=False)\n",
        "\n",
        "print('data shape:{shape}'.format(shape=data_bunch.data.shape))\n",
        "print('target shape:{shape}'.format(shape=data_bunch.target.shape))\n",
        "data_bunch"
      ],
      "execution_count": 3,
      "outputs": [
        {
          "output_type": "stream",
          "text": [
            "Downloading https://ndownloader.figshare.com/files/5976039\n"
          ],
          "name": "stderr"
        },
        {
          "output_type": "stream",
          "text": [
            "data shape:(581012, 54)\n",
            "target shape:(581012,)\n"
          ],
          "name": "stdout"
        },
        {
          "output_type": "execute_result",
          "data": {
            "text/plain": [
              "{'DESCR': \".. _covtype_dataset:\\n\\nForest covertypes\\n-----------------\\n\\nThe samples in this dataset correspond to 30×30m patches of forest in the US,\\ncollected for the task of predicting each patch's cover type,\\ni.e. the dominant species of tree.\\nThere are seven covertypes, making this a multiclass classification problem.\\nEach sample has 54 features, described on the\\n`dataset's homepage <https://archive.ics.uci.edu/ml/datasets/Covertype>`__.\\nSome of the features are boolean indicators,\\nwhile others are discrete or continuous measurements.\\n\\n**Data Set Characteristics:**\\n\\n    =================   ============\\n    Classes                        7\\n    Samples total             581012\\n    Dimensionality                54\\n    Features                     int\\n    =================   ============\\n\\n:func:`sklearn.datasets.fetch_covtype` will load the covertype dataset;\\nit returns a dictionary-like object\\nwith the feature matrix in the ``data`` member\\nand the target values in ``target``.\\nThe dataset will be downloaded from the web if necessary.\\n\",\n",
              " 'data': array([[3.221e+03, 3.900e+01, 1.600e+01, ..., 0.000e+00, 0.000e+00,\n",
              "         0.000e+00],\n",
              "        [3.348e+03, 9.700e+01, 1.200e+01, ..., 1.000e+00, 0.000e+00,\n",
              "         0.000e+00],\n",
              "        [3.114e+03, 1.770e+02, 2.000e+01, ..., 0.000e+00, 0.000e+00,\n",
              "         0.000e+00],\n",
              "        ...,\n",
              "        [2.960e+03, 1.200e+02, 2.600e+01, ..., 0.000e+00, 0.000e+00,\n",
              "         0.000e+00],\n",
              "        [3.247e+03, 4.600e+01, 1.900e+01, ..., 1.000e+00, 0.000e+00,\n",
              "         0.000e+00],\n",
              "        [2.975e+03, 9.900e+01, 8.000e+00, ..., 0.000e+00, 0.000e+00,\n",
              "         0.000e+00]]),\n",
              " 'target': array([1, 1, 2, ..., 2, 2, 2], dtype=int32)}"
            ]
          },
          "metadata": {
            "tags": []
          },
          "execution_count": 3
        }
      ]
    },
    {
      "cell_type": "code",
      "metadata": {
        "id": "YkvZ3OfDa3aD",
        "colab_type": "code",
        "colab": {
          "base_uri": "https://localhost:8080/",
          "height": 71
        },
        "outputId": "828ace15-b495-4ee5-89ab-8c79e67410e6"
      },
      "source": [
        "# 訓練データ,テストデータに分割\n",
        "train_X, test_X, train_y, test_y = train_test_split(data_bunch.data, data_bunch.target,\n",
        "                                                    test_size=0.2, random_state=SEED)\n",
        "# 訓練データ,検証データに分割\n",
        "train_X, validation_X, train_y, validation_y = train_test_split(train_X, train_y,\n",
        "                                                                test_size=0.2, random_state=SEED)\n",
        "\n",
        "print('train size:{size}'.format(size=train_y.shape[0]))\n",
        "print('validation size:{size}'.format(size=validation_y.shape[0]))\n",
        "print('test size:{size}'.format(size=test_y.shape[0]))"
      ],
      "execution_count": 4,
      "outputs": [
        {
          "output_type": "stream",
          "text": [
            "train size:371847\n",
            "validation size:92962\n",
            "test size:116203\n"
          ],
          "name": "stdout"
        }
      ]
    },
    {
      "cell_type": "code",
      "metadata": {
        "id": "KEyJnTgK50lX",
        "colab_type": "code",
        "colab": {}
      },
      "source": [
        "NUM_CLASS = 7"
      ],
      "execution_count": 23,
      "outputs": []
    },
    {
      "cell_type": "markdown",
      "metadata": {
        "id": "5iNfcuX-ffaf",
        "colab_type": "text"
      },
      "source": [
        "# データの前処理"
      ]
    },
    {
      "cell_type": "markdown",
      "metadata": {
        "id": "pnMV2Jpvfi9c",
        "colab_type": "text"
      },
      "source": [
        "## 標準化"
      ]
    },
    {
      "cell_type": "code",
      "metadata": {
        "id": "NWWymQMXcWnW",
        "colab_type": "code",
        "colab": {
          "base_uri": "https://localhost:8080/",
          "height": 35
        },
        "outputId": "b8539270-582d-4aac-fee3-622c7e3ad6af"
      },
      "source": [
        "STD_SCALER = StandardScaler()\n",
        "# 標準化器を作成\n",
        "STD_SCALER.fit(train_X)\n",
        "print('sclaer fit end')"
      ],
      "execution_count": 6,
      "outputs": [
        {
          "output_type": "stream",
          "text": [
            "sclaer fit end\n"
          ],
          "name": "stdout"
        }
      ]
    },
    {
      "cell_type": "code",
      "metadata": {
        "id": "GN5s79t1gUGZ",
        "colab_type": "code",
        "colab": {
          "base_uri": "https://localhost:8080/",
          "height": 53
        },
        "outputId": "81ccd662-b9c2-4195-92e3-ed366c81434d"
      },
      "source": [
        "# 訓練データを標準化\n",
        "std_train_X = STD_SCALER.transform(train_X, copy=True)\n",
        "std_train_X[:,0]"
      ],
      "execution_count": 7,
      "outputs": [
        {
          "output_type": "execute_result",
          "data": {
            "text/plain": [
              "array([ 0.31952626, -1.6259504 ,  1.09557117, ..., -0.64605958,\n",
              "       -0.18830037,  1.2529259 ])"
            ]
          },
          "metadata": {
            "tags": []
          },
          "execution_count": 7
        }
      ]
    },
    {
      "cell_type": "code",
      "metadata": {
        "id": "sLEhF0wOgoP0",
        "colab_type": "code",
        "colab": {}
      },
      "source": [
        "# 検証/テストデータも標準化\n",
        "std_validation_X = STD_SCALER.transform(validation_X, copy=True)\n",
        "std_test_X = STD_SCALER.transform(test_X, copy=True)"
      ],
      "execution_count": 8,
      "outputs": []
    },
    {
      "cell_type": "markdown",
      "metadata": {
        "id": "h-iI7keYiYWp",
        "colab_type": "text"
      },
      "source": [
        "### ICAで次元圧縮"
      ]
    },
    {
      "cell_type": "code",
      "metadata": {
        "id": "3WLGK95hgpOZ",
        "colab_type": "code",
        "colab": {
          "base_uri": "https://localhost:8080/",
          "height": 35
        },
        "outputId": "bd034bc2-48f5-40de-b8a6-59ea5fd475a4"
      },
      "source": [
        "# 圧縮後の次元サイズ\n",
        "COMPONENTS = 40\n",
        "\n",
        "ica = FastICA(n_components=COMPONENTS, random_state=SEED)\n",
        "ica.fit(std_train_X)\n",
        "print('ica fit end')"
      ],
      "execution_count": 9,
      "outputs": [
        {
          "output_type": "stream",
          "text": [
            "ica fit end\n"
          ],
          "name": "stdout"
        }
      ]
    },
    {
      "cell_type": "code",
      "metadata": {
        "id": "MBGrGtm5gyyJ",
        "colab_type": "code",
        "colab": {
          "base_uri": "https://localhost:8080/",
          "height": 53
        },
        "outputId": "d4b01f8c-c72e-459a-a72c-f2a938e442a8"
      },
      "source": [
        "# 訓練/検証/テストデータをICAで次元圧縮\n",
        "ica_train_X = ica.transform(std_train_X)\n",
        "ica_validation_X = ica.transform(std_validation_X)\n",
        "ica_test_X = ica.transform(std_test_X)\n",
        "\n",
        "print('圧縮前の次元サイズ:{size}'.format(size=std_train_X.shape[1]))\n",
        "print('圧縮後の次元サイズ:{size}'.format(size=ica_train_X.shape[1]))"
      ],
      "execution_count": 10,
      "outputs": [
        {
          "output_type": "stream",
          "text": [
            "圧縮前の次元サイズ:54\n",
            "圧縮後の次元サイズ:40\n"
          ],
          "name": "stdout"
        }
      ]
    },
    {
      "cell_type": "markdown",
      "metadata": {
        "id": "88zTw2fXnKlX",
        "colab_type": "text"
      },
      "source": [
        "# XGBoost(classifier)でクラス分類モデル構築"
      ]
    },
    {
      "cell_type": "code",
      "metadata": {
        "id": "IWRbQhlCrqjJ",
        "colab_type": "code",
        "colab": {
          "base_uri": "https://localhost:8080/",
          "height": 145
        },
        "outputId": "7ddbddc3-f0c6-4aeb-afb2-a5933e7a5e16"
      },
      "source": [
        "from google.colab import drive\n",
        "drive.mount('/gdrive')\n",
        "%cd /gdrive"
      ],
      "execution_count": 11,
      "outputs": [
        {
          "output_type": "stream",
          "text": [
            "Go to this URL in a browser: https://accounts.google.com/o/oauth2/auth?client_id=947318989803-6bn6qk8qdgf4n4g3pfee6491hc0brc4i.apps.googleusercontent.com&redirect_uri=urn%3aietf%3awg%3aoauth%3a2.0%3aoob&response_type=code&scope=email%20https%3a%2f%2fwww.googleapis.com%2fauth%2fdocs.test%20https%3a%2f%2fwww.googleapis.com%2fauth%2fdrive%20https%3a%2f%2fwww.googleapis.com%2fauth%2fdrive.photos.readonly%20https%3a%2f%2fwww.googleapis.com%2fauth%2fpeopleapi.readonly\n",
            "\n",
            "Enter your authorization code:\n",
            "··········\n",
            "Mounted at /gdrive\n",
            "/gdrive\n"
          ],
          "name": "stdout"
        }
      ]
    },
    {
      "cell_type": "code",
      "metadata": {
        "id": "7QPlFu7przWN",
        "colab_type": "code",
        "colab": {
          "base_uri": "https://localhost:8080/",
          "height": 35
        },
        "outputId": "3f7aa67e-93f9-447d-a9cf-6c1d507d6f12"
      },
      "source": [
        "cd My Drive/機械学習練習/次元圧縮手法_比較/experiment/XGBoost"
      ],
      "execution_count": 12,
      "outputs": [
        {
          "output_type": "stream",
          "text": [
            "/gdrive/My Drive/機械学習練習/次元圧縮手法_比較/experiment/XGBoost\n"
          ],
          "name": "stdout"
        }
      ]
    },
    {
      "cell_type": "code",
      "metadata": {
        "id": "7f8quVUarr07",
        "colab_type": "code",
        "colab": {
          "base_uri": "https://localhost:8080/",
          "height": 35
        },
        "outputId": "4bb6a123-e3b8-4bf8-efc8-1da545c3dac3"
      },
      "source": [
        "!ls "
      ],
      "execution_count": 13,
      "outputs": [
        {
          "output_type": "stream",
          "text": [
            "compress_dim_ica.ipynb\tcompress_dim_nmf.ipynb\tcompress_dim_pca.ipynb\n"
          ],
          "name": "stdout"
        }
      ]
    },
    {
      "cell_type": "code",
      "metadata": {
        "id": "TdxD0q9nr9TL",
        "colab_type": "code",
        "colab": {}
      },
      "source": [
        "LOG_DIR = '../logs'\n",
        "model_name = 'ica_xgboost'\n",
        "\n",
        "xgb_cls = xgb.XGBRFClassifier(random_state=SEED, tree_method='gpu_hist', gpu_id=0)"
      ],
      "execution_count": 14,
      "outputs": []
    },
    {
      "cell_type": "markdown",
      "metadata": {
        "id": "riQ3yse9kP87",
        "colab_type": "text"
      },
      "source": [
        "## モデルの学習"
      ]
    },
    {
      "cell_type": "code",
      "metadata": {
        "id": "DBtleF-zsQ6A",
        "colab_type": "code",
        "colab": {
          "base_uri": "https://localhost:8080/",
          "height": 143
        },
        "outputId": "75200688-e9d0-4e30-81d6-846490d708fe"
      },
      "source": [
        "xgb_cls.fit(X=ica_train_X, y=train_y-1)"
      ],
      "execution_count": 19,
      "outputs": [
        {
          "output_type": "execute_result",
          "data": {
            "text/plain": [
              "XGBRFClassifier(base_score=0.5, colsample_bylevel=1, colsample_bynode=0.8,\n",
              "                colsample_bytree=1, gamma=0, gpu_id=0, learning_rate=1,\n",
              "                max_delta_step=0, max_depth=3, min_child_weight=1, missing=None,\n",
              "                n_estimators=100, n_jobs=1, nthread=None,\n",
              "                objective='multi:softprob', random_state=2, reg_alpha=0,\n",
              "                reg_lambda=1, scale_pos_weight=1, seed=None, silent=None,\n",
              "                subsample=0.8, tree_method='gpu_hist', verbosity=1)"
            ]
          },
          "metadata": {
            "tags": []
          },
          "execution_count": 19
        }
      ]
    },
    {
      "cell_type": "markdown",
      "metadata": {
        "id": "_vhblI5a9Zly",
        "colab_type": "text"
      },
      "source": [
        "## モデルの評価"
      ]
    },
    {
      "cell_type": "code",
      "metadata": {
        "id": "8OdWTGPowx8c",
        "colab_type": "code",
        "colab": {
          "base_uri": "https://localhost:8080/",
          "height": 53
        },
        "outputId": "536c8c7e-09bf-483e-88ad-e1c019799a60"
      },
      "source": [
        "train_score = xgb_cls.score(X=ica_train_X, y=train_y-1)\n",
        "test_score = xgb_cls.score(X=ica_test_X, y=test_y-1)\n",
        "print('train score:{score}'.format(score=train_score))\n",
        "print('test score:{score}'.format(score=test_score))"
      ],
      "execution_count": 24,
      "outputs": [
        {
          "output_type": "stream",
          "text": [
            "train score:0.6123082880862291\n",
            "test score:0.612755264494032\n"
          ],
          "name": "stdout"
        }
      ]
    },
    {
      "cell_type": "markdown",
      "metadata": {
        "id": "Ec5MjVkYGxLI",
        "colab_type": "text"
      },
      "source": [
        "### 主な分類指標を示すレポート"
      ]
    },
    {
      "cell_type": "code",
      "metadata": {
        "id": "8kuksI80D2du",
        "colab_type": "code",
        "colab": {
          "base_uri": "https://localhost:8080/",
          "height": 269
        },
        "outputId": "48a5f382-4cce-4c09-dc9e-cfb5c9161db0"
      },
      "source": [
        "predict_y = xgb_cls.predict(data=ica_test_X)\n",
        "\n",
        "report = classification_report(y_true=test_y, y_pred=predict_y+1)\n",
        "print(report)"
      ],
      "execution_count": 25,
      "outputs": [
        {
          "output_type": "stream",
          "text": [
            "              precision    recall  f1-score   support\n",
            "\n",
            "           1       0.66      0.42      0.51     42488\n",
            "           2       0.59      0.85      0.70     56473\n",
            "           3       0.65      0.43      0.51      7355\n",
            "           4       0.68      0.27      0.38       524\n",
            "           5       0.70      0.13      0.22      1866\n",
            "           6       0.54      0.02      0.04      3432\n",
            "           7       0.73      0.43      0.54      4065\n",
            "\n",
            "    accuracy                           0.61    116203\n",
            "   macro avg       0.65      0.36      0.42    116203\n",
            "weighted avg       0.62      0.61      0.58    116203\n",
            "\n"
          ],
          "name": "stdout"
        }
      ]
    },
    {
      "cell_type": "markdown",
      "metadata": {
        "id": "EGtGkMViG6F8",
        "colab_type": "text"
      },
      "source": [
        "### 混同行列"
      ]
    },
    {
      "cell_type": "code",
      "metadata": {
        "id": "PKTC0whrG9Vv",
        "colab_type": "code",
        "colab": {
          "base_uri": "https://localhost:8080/",
          "height": 143
        },
        "outputId": "3a014981-f63f-42f6-c309-5cc29e95380f"
      },
      "source": [
        "cm = confusion_matrix(y_true=test_y, y_pred=predict_y+1)\n",
        "print(cm)"
      ],
      "execution_count": 26,
      "outputs": [
        {
          "output_type": "stream",
          "text": [
            "[[17642 24175    31     0    16     0   624]\n",
            " [ 7400 48214   727     3    85    19    25]\n",
            " [  623  3507  3127    56     1    41     0]\n",
            " [   11   262   107   140     0     4     0]\n",
            " [  158  1374    91     0   242     1     0]\n",
            " [  219  2419   711     8     0    75     0]\n",
            " [  849  1437    15     0     0     0  1764]]\n"
          ],
          "name": "stdout"
        }
      ]
    },
    {
      "cell_type": "markdown",
      "metadata": {
        "id": "lH_FxU8k9ovt",
        "colab_type": "text"
      },
      "source": [
        "### モデルの保存"
      ]
    },
    {
      "cell_type": "code",
      "metadata": {
        "id": "B6KIvycq_bUu",
        "colab_type": "code",
        "colab": {}
      },
      "source": [
        "model_file = os.path.join(LOG_DIR, model_name+'_'+datetime.datetime.now().strftime(\"%Y%m%d-%H%M%S\")+'.pkl')\n",
        "\n",
        "with open(model_file, 'wb') as f:\n",
        "      f.write(cloudpickle.dumps(xgb_cls))"
      ],
      "execution_count": 29,
      "outputs": []
    },
    {
      "cell_type": "code",
      "metadata": {
        "id": "zEdG1KT4k4Vq",
        "colab_type": "code",
        "colab": {
          "base_uri": "https://localhost:8080/",
          "height": 89
        },
        "outputId": "c29751b1-d893-4d23-a833-23f04de8231b"
      },
      "source": [
        "!ls ../logs"
      ],
      "execution_count": 30,
      "outputs": [
        {
          "output_type": "stream",
          "text": [
            "compress_dim_ica_20200706-000503.h5  fit\n",
            "compress_dim_pca_20200705-080246.h5  ica_xgboost_20200712-055216.pkl\n",
            "compress_dim_pca_20200705-080838.h5  ica_xgboost.pkl\n",
            "compress_dim_pca_20200706-122832.h5\n"
          ],
          "name": "stdout"
        }
      ]
    },
    {
      "cell_type": "code",
      "metadata": {
        "id": "QW10jO7jk6DH",
        "colab_type": "code",
        "colab": {}
      },
      "source": [
        ""
      ],
      "execution_count": null,
      "outputs": []
    }
  ]
}