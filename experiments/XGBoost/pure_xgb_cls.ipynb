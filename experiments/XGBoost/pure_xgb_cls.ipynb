{
  "nbformat": 4,
  "nbformat_minor": 0,
  "metadata": {
    "colab": {
      "name": "pure_xgb_cls.ipynb",
      "provenance": [],
      "collapsed_sections": [],
      "toc_visible": true,
      "authorship_tag": "ABX9TyO/sW5R5eWiS9BeD1WdRwuY",
      "include_colab_link": true
    },
    "kernelspec": {
      "name": "python3",
      "display_name": "Python 3"
    },
    "accelerator": "GPU"
  },
  "cells": [
    {
      "cell_type": "markdown",
      "metadata": {
        "id": "view-in-github",
        "colab_type": "text"
      },
      "source": [
        "<a href=\"https://colab.research.google.com/github/Itsuki-Hamano123/dim-compression/blob/master/experiments/XGBoost/pure_xgb_cls.ipynb\" target=\"_parent\"><img src=\"https://colab.research.google.com/assets/colab-badge.svg\" alt=\"Open In Colab\"/></a>"
      ]
    },
    {
      "cell_type": "markdown",
      "metadata": {
        "id": "EGia4kD5Ye7p",
        "colab_type": "text"
      },
      "source": [
        "# 次元圧縮を行わずに分類"
      ]
    },
    {
      "cell_type": "code",
      "metadata": {
        "id": "Sn8NG08PQeE3",
        "colab_type": "code",
        "colab": {}
      },
      "source": [
        "import os\n",
        "import datetime\n",
        "\n",
        "import cloudpickle\n",
        "import pandas as pd\n",
        "\n",
        "from sklearn.datasets import fetch_covtype\n",
        "from sklearn.model_selection import train_test_split\n",
        "from sklearn.preprocessing import StandardScaler \n",
        "from sklearn.metrics import classification_report, confusion_matrix\n",
        "import xgboost as xgb"
      ],
      "execution_count": 1,
      "outputs": []
    },
    {
      "cell_type": "code",
      "metadata": {
        "id": "skuEjdhJZEY-",
        "colab_type": "code",
        "colab": {
          "base_uri": "https://localhost:8080/",
          "height": 235
        },
        "outputId": "d29a7ac2-0cb6-46a5-e0ce-abd26569ab65"
      },
      "source": [
        "print('{lib}:{ver}'.format(lib='xgboost',ver=xgb.__version__))\n",
        "!pip show scikit-learn"
      ],
      "execution_count": 2,
      "outputs": [
        {
          "output_type": "stream",
          "text": [
            "xgboost:0.90\n",
            "Name: scikit-learn\n",
            "Version: 0.22.2.post1\n",
            "Summary: A set of python modules for machine learning and data mining\n",
            "Home-page: http://scikit-learn.org\n",
            "Author: None\n",
            "Author-email: None\n",
            "License: new BSD\n",
            "Location: /usr/local/lib/python3.6/dist-packages\n",
            "Requires: joblib, numpy, scipy\n",
            "Required-by: yellowbrick, umap-learn, textgenrnn, sklearn, sklearn-pandas, mlxtend, lucid, lightgbm, librosa, imbalanced-learn, fancyimpute\n"
          ],
          "name": "stdout"
        }
      ]
    },
    {
      "cell_type": "markdown",
      "metadata": {
        "id": "O_0NUB0baOJN",
        "colab_type": "text"
      },
      "source": [
        "# covtypeデータ読み込み\n",
        "特徴量54次元で7クラス分類を行うデータ<br>\n",
        "[scikit-learnのリファレンス](https://scikit-learn.org/stable/modules/generated/sklearn.datasets.fetch_covtype.html#sklearn.datasets.fetch_covtype)<br>\n",
        "[データセットの詳細ページ](https://archive.ics.uci.edu/ml/datasets/Covertype)\n"
      ]
    },
    {
      "cell_type": "code",
      "metadata": {
        "id": "BPgBv1ECZ-E3",
        "colab_type": "code",
        "colab": {
          "base_uri": "https://localhost:8080/",
          "height": 361
        },
        "outputId": "859d0d30-93b2-4dc2-d486-8a5fa02306d9"
      },
      "source": [
        "SEED = 2\n",
        "\n",
        "data_bunch = fetch_covtype(random_state=SEED,\n",
        "                           shuffle=True,\n",
        "                           return_X_y=False)\n",
        "\n",
        "print('data shape:{shape}'.format(shape=data_bunch.data.shape))\n",
        "print('target shape:{shape}'.format(shape=data_bunch.target.shape))\n",
        "data_bunch"
      ],
      "execution_count": 3,
      "outputs": [
        {
          "output_type": "stream",
          "text": [
            "Downloading https://ndownloader.figshare.com/files/5976039\n"
          ],
          "name": "stderr"
        },
        {
          "output_type": "stream",
          "text": [
            "data shape:(581012, 54)\n",
            "target shape:(581012,)\n"
          ],
          "name": "stdout"
        },
        {
          "output_type": "execute_result",
          "data": {
            "text/plain": [
              "{'DESCR': \".. _covtype_dataset:\\n\\nForest covertypes\\n-----------------\\n\\nThe samples in this dataset correspond to 30×30m patches of forest in the US,\\ncollected for the task of predicting each patch's cover type,\\ni.e. the dominant species of tree.\\nThere are seven covertypes, making this a multiclass classification problem.\\nEach sample has 54 features, described on the\\n`dataset's homepage <https://archive.ics.uci.edu/ml/datasets/Covertype>`__.\\nSome of the features are boolean indicators,\\nwhile others are discrete or continuous measurements.\\n\\n**Data Set Characteristics:**\\n\\n    =================   ============\\n    Classes                        7\\n    Samples total             581012\\n    Dimensionality                54\\n    Features                     int\\n    =================   ============\\n\\n:func:`sklearn.datasets.fetch_covtype` will load the covertype dataset;\\nit returns a dictionary-like object\\nwith the feature matrix in the ``data`` member\\nand the target values in ``target``.\\nThe dataset will be downloaded from the web if necessary.\\n\",\n",
              " 'data': array([[3.221e+03, 3.900e+01, 1.600e+01, ..., 0.000e+00, 0.000e+00,\n",
              "         0.000e+00],\n",
              "        [3.348e+03, 9.700e+01, 1.200e+01, ..., 1.000e+00, 0.000e+00,\n",
              "         0.000e+00],\n",
              "        [3.114e+03, 1.770e+02, 2.000e+01, ..., 0.000e+00, 0.000e+00,\n",
              "         0.000e+00],\n",
              "        ...,\n",
              "        [2.960e+03, 1.200e+02, 2.600e+01, ..., 0.000e+00, 0.000e+00,\n",
              "         0.000e+00],\n",
              "        [3.247e+03, 4.600e+01, 1.900e+01, ..., 1.000e+00, 0.000e+00,\n",
              "         0.000e+00],\n",
              "        [2.975e+03, 9.900e+01, 8.000e+00, ..., 0.000e+00, 0.000e+00,\n",
              "         0.000e+00]]),\n",
              " 'target': array([1, 1, 2, ..., 2, 2, 2], dtype=int32)}"
            ]
          },
          "metadata": {
            "tags": []
          },
          "execution_count": 3
        }
      ]
    },
    {
      "cell_type": "code",
      "metadata": {
        "id": "YkvZ3OfDa3aD",
        "colab_type": "code",
        "colab": {
          "base_uri": "https://localhost:8080/",
          "height": 71
        },
        "outputId": "e4dd500f-4144-4dad-dc90-a65c871e33d8"
      },
      "source": [
        "# 訓練データ,テストデータに分割\n",
        "train_X, test_X, train_y, test_y = train_test_split(data_bunch.data, data_bunch.target,\n",
        "                                                    test_size=0.2, random_state=SEED)\n",
        "# 訓練データ,検証データに分割\n",
        "train_X, validation_X, train_y, validation_y = train_test_split(train_X, train_y,\n",
        "                                                                test_size=0.2, random_state=SEED)\n",
        "\n",
        "print('train size:{size}'.format(size=train_y.shape[0]))\n",
        "print('validation size:{size}'.format(size=validation_y.shape[0]))\n",
        "print('test size:{size}'.format(size=test_y.shape[0]))"
      ],
      "execution_count": 4,
      "outputs": [
        {
          "output_type": "stream",
          "text": [
            "train size:371847\n",
            "validation size:92962\n",
            "test size:116203\n"
          ],
          "name": "stdout"
        }
      ]
    },
    {
      "cell_type": "code",
      "metadata": {
        "id": "KEyJnTgK50lX",
        "colab_type": "code",
        "colab": {}
      },
      "source": [
        "NUM_CLASS = 7"
      ],
      "execution_count": 5,
      "outputs": []
    },
    {
      "cell_type": "markdown",
      "metadata": {
        "id": "5iNfcuX-ffaf",
        "colab_type": "text"
      },
      "source": [
        "# データの前処理"
      ]
    },
    {
      "cell_type": "markdown",
      "metadata": {
        "id": "pnMV2Jpvfi9c",
        "colab_type": "text"
      },
      "source": [
        "## 標準化"
      ]
    },
    {
      "cell_type": "code",
      "metadata": {
        "id": "NWWymQMXcWnW",
        "colab_type": "code",
        "colab": {
          "base_uri": "https://localhost:8080/",
          "height": 35
        },
        "outputId": "49e79b92-e04b-4e98-a668-7201fc5074a2"
      },
      "source": [
        "STD_SCALER = StandardScaler()\n",
        "# 標準化器を作成\n",
        "STD_SCALER.fit(train_X)\n",
        "print('sclaer fit end')"
      ],
      "execution_count": 6,
      "outputs": [
        {
          "output_type": "stream",
          "text": [
            "sclaer fit end\n"
          ],
          "name": "stdout"
        }
      ]
    },
    {
      "cell_type": "code",
      "metadata": {
        "id": "GN5s79t1gUGZ",
        "colab_type": "code",
        "colab": {
          "base_uri": "https://localhost:8080/",
          "height": 53
        },
        "outputId": "2d359d1b-e54b-42f6-b392-4fffbae6b07a"
      },
      "source": [
        "# 訓練データを標準化\n",
        "std_train_X = STD_SCALER.transform(train_X, copy=True)\n",
        "std_train_X[:,0]"
      ],
      "execution_count": 7,
      "outputs": [
        {
          "output_type": "execute_result",
          "data": {
            "text/plain": [
              "array([ 0.31952626, -1.6259504 ,  1.09557117, ..., -0.64605958,\n",
              "       -0.18830037,  1.2529259 ])"
            ]
          },
          "metadata": {
            "tags": []
          },
          "execution_count": 7
        }
      ]
    },
    {
      "cell_type": "code",
      "metadata": {
        "id": "sLEhF0wOgoP0",
        "colab_type": "code",
        "colab": {}
      },
      "source": [
        "# 検証/テストデータも標準化\n",
        "std_validation_X = STD_SCALER.transform(validation_X, copy=True)\n",
        "std_test_X = STD_SCALER.transform(test_X, copy=True)"
      ],
      "execution_count": 8,
      "outputs": []
    },
    {
      "cell_type": "markdown",
      "metadata": {
        "id": "88zTw2fXnKlX",
        "colab_type": "text"
      },
      "source": [
        "# XGBosot(classifier)でクラス分類モデル構築"
      ]
    },
    {
      "cell_type": "code",
      "metadata": {
        "id": "IWRbQhlCrqjJ",
        "colab_type": "code",
        "colab": {
          "base_uri": "https://localhost:8080/",
          "height": 145
        },
        "outputId": "980347ec-1eaa-4134-834f-8c1d5f5727ee"
      },
      "source": [
        "from google.colab import drive\n",
        "drive.mount('/gdrive')\n",
        "%cd /gdrive"
      ],
      "execution_count": 9,
      "outputs": [
        {
          "output_type": "stream",
          "text": [
            "Go to this URL in a browser: https://accounts.google.com/o/oauth2/auth?client_id=947318989803-6bn6qk8qdgf4n4g3pfee6491hc0brc4i.apps.googleusercontent.com&redirect_uri=urn%3aietf%3awg%3aoauth%3a2.0%3aoob&response_type=code&scope=email%20https%3a%2f%2fwww.googleapis.com%2fauth%2fdocs.test%20https%3a%2f%2fwww.googleapis.com%2fauth%2fdrive%20https%3a%2f%2fwww.googleapis.com%2fauth%2fdrive.photos.readonly%20https%3a%2f%2fwww.googleapis.com%2fauth%2fpeopleapi.readonly\n",
            "\n",
            "Enter your authorization code:\n",
            "··········\n",
            "Mounted at /gdrive\n",
            "/gdrive\n"
          ],
          "name": "stdout"
        }
      ]
    },
    {
      "cell_type": "code",
      "metadata": {
        "id": "7QPlFu7przWN",
        "colab_type": "code",
        "colab": {
          "base_uri": "https://localhost:8080/",
          "height": 35
        },
        "outputId": "75612e0d-ece6-4b8b-a5d2-81dc77ef8339"
      },
      "source": [
        "cd My Drive/機械学習練習/次元圧縮手法_比較/experiment/XGBoost"
      ],
      "execution_count": 10,
      "outputs": [
        {
          "output_type": "stream",
          "text": [
            "/gdrive/My Drive/機械学習練習/次元圧縮手法_比較/experiment/XGBoost\n"
          ],
          "name": "stdout"
        }
      ]
    },
    {
      "cell_type": "code",
      "metadata": {
        "id": "7f8quVUarr07",
        "colab_type": "code",
        "colab": {
          "base_uri": "https://localhost:8080/",
          "height": 53
        },
        "outputId": "94c052af-8d3e-4b39-8d70-6ac28a887b71"
      },
      "source": [
        "!ls "
      ],
      "execution_count": 11,
      "outputs": [
        {
          "output_type": "stream",
          "text": [
            " compress_dim_ica.ipynb  'compress_dim_pca.ipynb のコピー'\n",
            " compress_dim_pca.ipynb   pure_xgb_cls.ipynb\n"
          ],
          "name": "stdout"
        }
      ]
    },
    {
      "cell_type": "code",
      "metadata": {
        "id": "TdxD0q9nr9TL",
        "colab_type": "code",
        "colab": {}
      },
      "source": [
        "LOG_DIR = '../logs'\n",
        "model_name = 'pure_xgboost'\n",
        "xgb.XGBClassifier()\n",
        "xgb_cls = xgb.XGBRFClassifier(random_state=SEED, tree_method='gpu_hist', gpu_id=0)"
      ],
      "execution_count": 12,
      "outputs": []
    },
    {
      "cell_type": "markdown",
      "metadata": {
        "id": "n-IE71JElTw_",
        "colab_type": "text"
      },
      "source": [
        "## モデルの訓練"
      ]
    },
    {
      "cell_type": "code",
      "metadata": {
        "id": "a4c2IrcgzE3m",
        "colab_type": "code",
        "colab": {
          "base_uri": "https://localhost:8080/",
          "height": 143
        },
        "outputId": "9f33e30e-bef6-4279-d47f-dbeca1b933f6"
      },
      "source": [
        "xgb_cls.fit(X=std_train_X, y=train_y-1)"
      ],
      "execution_count": 14,
      "outputs": [
        {
          "output_type": "execute_result",
          "data": {
            "text/plain": [
              "XGBRFClassifier(base_score=0.5, colsample_bylevel=1, colsample_bynode=0.8,\n",
              "                colsample_bytree=1, gamma=0, gpu_id=0, learning_rate=1,\n",
              "                max_delta_step=0, max_depth=3, min_child_weight=1, missing=None,\n",
              "                n_estimators=100, n_jobs=1, nthread=None,\n",
              "                objective='multi:softprob', random_state=2, reg_alpha=0,\n",
              "                reg_lambda=1, scale_pos_weight=1, seed=None, silent=None,\n",
              "                subsample=0.8, tree_method='gpu_hist', verbosity=1)"
            ]
          },
          "metadata": {
            "tags": []
          },
          "execution_count": 14
        }
      ]
    },
    {
      "cell_type": "markdown",
      "metadata": {
        "id": "_vhblI5a9Zly",
        "colab_type": "text"
      },
      "source": [
        "## モデルの評価"
      ]
    },
    {
      "cell_type": "code",
      "metadata": {
        "id": "NVfopzKri8R-",
        "colab_type": "code",
        "colab": {
          "base_uri": "https://localhost:8080/",
          "height": 53
        },
        "outputId": "e17324fe-097b-4c31-8f5d-f8ea4538695f"
      },
      "source": [
        "train_score = xgb_cls.score(X=std_train_X, y=train_y-1)\n",
        "test_score = xgb_cls.score(X=std_test_X, y=test_y-1)\n",
        "print('train score:{score}'.format(score=train_score))\n",
        "print('test score:{score}'.format(score=test_score))"
      ],
      "execution_count": 16,
      "outputs": [
        {
          "output_type": "stream",
          "text": [
            "train score:0.6889849857602723\n",
            "test score:0.6910751013312909\n"
          ],
          "name": "stdout"
        }
      ]
    },
    {
      "cell_type": "markdown",
      "metadata": {
        "id": "BB82BjXFGgoq",
        "colab_type": "text"
      },
      "source": [
        "### 主な分類指標を示すレポート"
      ]
    },
    {
      "cell_type": "code",
      "metadata": {
        "id": "ysQ2vZAXDYvf",
        "colab_type": "code",
        "colab": {
          "base_uri": "https://localhost:8080/",
          "height": 325
        },
        "outputId": "7693ed50-15de-4196-dca6-26bc575ce889"
      },
      "source": [
        "predict_y = xgb_cls.predict(data=std_test_X)\n",
        "\n",
        "report = classification_report(y_true=test_y, y_pred=predict_y+1)\n",
        "print(report)"
      ],
      "execution_count": 17,
      "outputs": [
        {
          "output_type": "stream",
          "text": [
            "              precision    recall  f1-score   support\n",
            "\n",
            "           1       0.66      0.71      0.69     42488\n",
            "           2       0.72      0.76      0.74     56473\n",
            "           3       0.63      0.72      0.67      7355\n",
            "           4       0.68      0.27      0.39       524\n",
            "           5       0.00      0.00      0.00      1866\n",
            "           6       0.50      0.00      0.00      3432\n",
            "           7       0.74      0.41      0.53      4065\n",
            "\n",
            "    accuracy                           0.69    116203\n",
            "   macro avg       0.56      0.41      0.43    116203\n",
            "weighted avg       0.68      0.69      0.67    116203\n",
            "\n"
          ],
          "name": "stdout"
        },
        {
          "output_type": "stream",
          "text": [
            "/usr/local/lib/python3.6/dist-packages/sklearn/metrics/_classification.py:1272: UndefinedMetricWarning: Precision and F-score are ill-defined and being set to 0.0 in labels with no predicted samples. Use `zero_division` parameter to control this behavior.\n",
            "  _warn_prf(average, modifier, msg_start, len(result))\n"
          ],
          "name": "stderr"
        }
      ]
    },
    {
      "cell_type": "markdown",
      "metadata": {
        "id": "Hn4kQfxCGleH",
        "colab_type": "text"
      },
      "source": [
        "### 混同行列"
      ]
    },
    {
      "cell_type": "code",
      "metadata": {
        "id": "nI5o4h37GTI2",
        "colab_type": "code",
        "colab": {
          "base_uri": "https://localhost:8080/",
          "height": 143
        },
        "outputId": "e018ffe4-9be9-4bbb-c16b-d888777b80a6"
      },
      "source": [
        "cm = confusion_matrix(y_true=test_y, y_pred=predict_y+1)\n",
        "print(cm)"
      ],
      "execution_count": 18,
      "outputs": [
        {
          "output_type": "stream",
          "text": [
            "[[30333 11632     1     0     0     0   522]\n",
            " [13044 42856   508     4     0     2    59]\n",
            " [    0  2006  5306    43     0     0     0]\n",
            " [    0     0   380   144     0     0     0]\n",
            " [    0  1864     2     0     0     0     0]\n",
            " [    0  1147  2263    20     0     2     0]\n",
            " [ 2384    17     0     0     0     0  1664]]\n"
          ],
          "name": "stdout"
        }
      ]
    },
    {
      "cell_type": "markdown",
      "metadata": {
        "id": "lH_FxU8k9ovt",
        "colab_type": "text"
      },
      "source": [
        "### モデルの保存"
      ]
    },
    {
      "cell_type": "code",
      "metadata": {
        "id": "B6KIvycq_bUu",
        "colab_type": "code",
        "colab": {}
      },
      "source": [
        "model_file = os.path.join(LOG_DIR, model_name+'_'+datetime.datetime.now().strftime(\"%Y%m%d-%H%M%S\")+'.pkl')\n",
        "\n",
        "with open(model_file, 'wb') as f:\n",
        "      f.write(cloudpickle.dumps(xgb_cls))"
      ],
      "execution_count": 19,
      "outputs": []
    },
    {
      "cell_type": "code",
      "metadata": {
        "id": "pwWjmRndAAli",
        "colab_type": "code",
        "colab": {
          "base_uri": "https://localhost:8080/",
          "height": 107
        },
        "outputId": "2bd6ce2d-a9e8-472d-8e08-8dcaa69ca00e"
      },
      "source": [
        "!ls ../logs/"
      ],
      "execution_count": 20,
      "outputs": [
        {
          "output_type": "stream",
          "text": [
            "compress_dim_ica_20200706-000503.h5  ica_xgboost_20200712-055216.pkl\n",
            "compress_dim_pca_20200705-080246.h5  ica_xgboost.pkl\n",
            "compress_dim_pca_20200705-080838.h5  pca_xgboost_20200712-055438.pkl\n",
            "compress_dim_pca_20200706-122832.h5  pure_xgboost_20200712-060727.pkl\n",
            "fit\n"
          ],
          "name": "stdout"
        }
      ]
    },
    {
      "cell_type": "code",
      "metadata": {
        "id": "IHIuK1RGoqp4",
        "colab_type": "code",
        "colab": {}
      },
      "source": [
        ""
      ],
      "execution_count": null,
      "outputs": []
    }
  ]
}